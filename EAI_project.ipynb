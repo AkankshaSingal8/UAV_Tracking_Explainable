{
  "cells": [
    {
      "cell_type": "code",
      "execution_count": 1,
      "metadata": {
        "colab": {
          "base_uri": "https://localhost:8080/"
        },
        "id": "gllN_2Z6KJFT",
        "outputId": "dfcea24e-3fdb-48b2-de4d-b655e99fb7c0"
      },
      "outputs": [
        {
          "name": "stdout",
          "output_type": "stream",
          "text": [
            "\u001b[?25l   \u001b[90m━━━━━━━━━━━━━━━━━━━━━━━━━━━━━━━━━━━━━━━━\u001b[0m \u001b[32m0.0/398.4 kB\u001b[0m \u001b[31m?\u001b[0m eta \u001b[36m-:--:--\u001b[0m\r\u001b[2K   \u001b[90m━━━━━━━━━━━━━━━━━━━━━━━━━━━━━━━━━━━━━━━━\u001b[0m \u001b[32m398.4/398.4 kB\u001b[0m \u001b[31m11.8 MB/s\u001b[0m eta \u001b[36m0:00:00\u001b[0m\n",
            "\u001b[?25h\u001b[?25l   \u001b[90m━━━━━━━━━━━━━━━━━━━━━━━━━━━━━━━━━━━━━━━━\u001b[0m \u001b[32m0.0/192.6 kB\u001b[0m \u001b[31m?\u001b[0m eta \u001b[36m-:--:--\u001b[0m\r\u001b[2K   \u001b[90m━━━━━━━━━━━━━━━━━━━━━━━━━━━━━━━━━━━━━━━━\u001b[0m \u001b[32m192.6/192.6 kB\u001b[0m \u001b[31m11.2 MB/s\u001b[0m eta \u001b[36m0:00:00\u001b[0m\n",
            "\u001b[?25h\u001b[?25l   \u001b[90m━━━━━━━━━━━━━━━━━━━━━━━━━━━━━━━━━━━━━━━━\u001b[0m \u001b[32m0.0/1.9 MB\u001b[0m \u001b[31m?\u001b[0m eta \u001b[36m-:--:--\u001b[0m\r\u001b[2K   \u001b[91m━━━━━━━━━━━━━━━━━━━━━━━━━━━━━━━━━━━━━━━\u001b[0m\u001b[91m╸\u001b[0m \u001b[32m1.9/1.9 MB\u001b[0m \u001b[31m138.2 MB/s\u001b[0m eta \u001b[36m0:00:01\u001b[0m\r\u001b[2K   \u001b[90m━━━━━━━━━━━━━━━━━━━━━━━━━━━━━━━━━━━━━━━━\u001b[0m \u001b[32m1.9/1.9 MB\u001b[0m \u001b[31m52.8 MB/s\u001b[0m eta \u001b[36m0:00:00\u001b[0m\n",
            "\u001b[?25h"
          ]
        }
      ],
      "source": [
        "!pip install dowhy --quiet"
      ]
    },
    {
      "cell_type": "code",
      "execution_count": 9,
      "metadata": {
        "id": "JzlROlWtAuWM"
      },
      "outputs": [],
      "source": [
        "import dowhy\n",
        "from dowhy import CausalModel\n",
        "import pandas as pd\n",
        "import numpy as np\n",
        "\n",
        "import warnings\n",
        "warnings.simplefilter(action='ignore', category=FutureWarning)"
      ]
    },
    {
      "cell_type": "code",
      "execution_count": 10,
      "metadata": {
        "colab": {
          "base_uri": "https://localhost:8080/",
          "height": 226
        },
        "id": "Csi3l0BBKIID",
        "outputId": "d377c77a-9cfb-4a53-8d62-ce3faa18959c"
      },
      "outputs": [
        {
          "data": {
            "application/vnd.google.colaboratory.intrinsic+json": {
              "summary": "{\n  \"name\": \"data\",\n  \"rows\": 78896,\n  \"fields\": [\n    {\n      \"column\": \"Image\",\n      \"properties\": {\n        \"dtype\": \"string\",\n        \"num_unique_values\": 78896,\n        \"samples\": [\n          \"38_{830}\",\n          \"23_{444}\",\n          \"59_{641}\"\n        ],\n        \"semantic_type\": \"\",\n        \"description\": \"\"\n      }\n    },\n    {\n      \"column\": \"corner_0_x\",\n      \"properties\": {\n        \"dtype\": \"number\",\n        \"std\": 22.72921826404321,\n        \"min\": 12.740102767964862,\n        \"max\": 609.8138427734166,\n        \"num_unique_values\": 18276,\n        \"samples\": [\n          291.01763916016006,\n          365.0000000000099,\n          365.2925720215011\n        ],\n        \"semantic_type\": \"\",\n        \"description\": \"\"\n      }\n    },\n    {\n      \"column\": \"corner_0_y\",\n      \"properties\": {\n        \"dtype\": \"number\",\n        \"std\": 24.081053272388154,\n        \"min\": -7.653380870827214,\n        \"max\": 459.9999999997537,\n        \"num_unique_values\": 17876,\n        \"samples\": [\n          290.9543457031101,\n          292.0000000000031,\n          294.4305114746051\n        ],\n        \"semantic_type\": \"\",\n        \"description\": \"\"\n      }\n    },\n    {\n      \"column\": \"corner_1_x\",\n      \"properties\": {\n        \"dtype\": \"number\",\n        \"std\": 32.71052262806623,\n        \"min\": -11.358234405542303,\n        \"max\": 652.9446411133565,\n        \"num_unique_values\": 18377,\n        \"samples\": [\n          276.222534179688,\n          445.5150756835964,\n          284.89309692384205\n        ],\n        \"semantic_type\": \"\",\n        \"description\": \"\"\n      }\n    },\n    {\n      \"column\": \"corner_1_y\",\n      \"properties\": {\n        \"dtype\": \"number\",\n        \"std\": 20.74755258996483,\n        \"min\": 9.677809715259526,\n        \"max\": 460.0000000002461,\n        \"num_unique_values\": 17880,\n        \"samples\": [\n          294.4200744628848,\n          284.8324279785207,\n          300.0455322265529\n        ],\n        \"semantic_type\": \"\",\n        \"description\": \"\"\n      }\n    },\n    {\n      \"column\": \"corner_2_x\",\n      \"properties\": {\n        \"dtype\": \"number\",\n        \"std\": 20.880415782063395,\n        \"min\": 40.34661483767617,\n        \"max\": 632.0563354492216,\n        \"num_unique_values\": 18365,\n        \"samples\": [\n          275.0000000000012,\n          279.50619506836154,\n          280.2606506347566\n        ],\n        \"semantic_type\": \"\",\n        \"description\": \"\"\n      }\n    },\n    {\n      \"column\": \"corner_2_y\",\n      \"properties\": {\n        \"dtype\": \"number\",\n        \"std\": 29.11375359831421,\n        \"min\": 58.168907165442455,\n        \"max\": 452.4552917480398,\n        \"num_unique_values\": 17963,\n        \"samples\": [\n          268.64834594726045,\n          209.91642761231645,\n          206.4355468749976\n        ],\n        \"semantic_type\": \"\",\n        \"description\": \"\"\n      }\n    },\n    {\n      \"column\": \"corner_3_x\",\n      \"properties\": {\n        \"dtype\": \"number\",\n        \"std\": 22.9151352112096,\n        \"min\": 37.71865463254178,\n        \"max\": 606.1581420897588,\n        \"num_unique_values\": 18283,\n        \"samples\": [\n          363.709533691411,\n          360.7914123535199,\n          278.93234252931416\n        ],\n        \"semantic_type\": \"\",\n        \"description\": \"\"\n      }\n    },\n    {\n      \"column\": \"corner_3_y\",\n      \"properties\": {\n        \"dtype\": \"number\",\n        \"std\": 18.914353523982108,\n        \"min\": 9.422710418657925,\n        \"max\": 420.46490478516233,\n        \"num_unique_values\": 17944,\n        \"samples\": [\n          206.25149536132875,\n          322.1955871581966,\n          208.8173217773526\n        ],\n        \"semantic_type\": \"\",\n        \"description\": \"\"\n      }\n    },\n    {\n      \"column\": \"area\",\n      \"properties\": {\n        \"dtype\": \"number\",\n        \"std\": 2223.860566191435,\n        \"min\": 1089.0000000000073,\n        \"max\": 58073.20401449225,\n        \"num_unique_values\": 18782,\n        \"samples\": [\n          26147.00665283121,\n          6990.649245575631,\n          8282.356938850367\n        ],\n        \"semantic_type\": \"\",\n        \"description\": \"\"\n      }\n    },\n    {\n      \"column\": \"angle_from_180\",\n      \"properties\": {\n        \"dtype\": \"number\",\n        \"std\": 171.16977555709994,\n        \"min\": 0.0,\n        \"max\": 360.0,\n        \"num_unique_values\": 16762,\n        \"samples\": [\n          4.928779094756862,\n          358.8683724034848,\n          359.9999999999932\n        ],\n        \"semantic_type\": \"\",\n        \"description\": \"\"\n      }\n    },\n    {\n      \"column\": \"vx\",\n      \"properties\": {\n        \"dtype\": \"number\",\n        \"std\": 0.06478339595928671,\n        \"min\": -0.8426123261451721,\n        \"max\": 0.8363252,\n        \"num_unique_values\": 32724,\n        \"samples\": [\n          -0.0019892806,\n          -0.09957978,\n          -1.7459699e-05\n        ],\n        \"semantic_type\": \"\",\n        \"description\": \"\"\n      }\n    },\n    {\n      \"column\": \"vy\",\n      \"properties\": {\n        \"dtype\": \"number\",\n        \"std\": 0.0602631213083715,\n        \"min\": -0.8696004152297974,\n        \"max\": 0.5640678,\n        \"num_unique_values\": 32739,\n        \"samples\": [\n          -0.0061478307,\n          0.0018180428,\n          -0.0620587021112442\n        ],\n        \"semantic_type\": \"\",\n        \"description\": \"\"\n      }\n    },\n    {\n      \"column\": \"vz\",\n      \"properties\": {\n        \"dtype\": \"number\",\n        \"std\": 0.09865697860536421,\n        \"min\": -1.6130246,\n        \"max\": 0.5548404,\n        \"num_unique_values\": 27995,\n        \"samples\": [\n          -0.0032242467,\n          0.026477875,\n          0.13126323\n        ],\n        \"semantic_type\": \"\",\n        \"description\": \"\"\n      }\n    },\n    {\n      \"column\": \"omega_z\",\n      \"properties\": {\n        \"dtype\": \"number\",\n        \"std\": 0.17754081066411617,\n        \"min\": -0.8257108330726624,\n        \"max\": 1.4100708,\n        \"num_unique_values\": 26726,\n        \"samples\": [\n          0.8678640127182007,\n          0.28248045,\n          0.0032808105\n        ],\n        \"semantic_type\": \"\",\n        \"description\": \"\"\n      }\n    }\n  ]\n}",
              "type": "dataframe",
              "variable_name": "data"
            },
            "text/html": [
              "\n",
              "  <div id=\"df-c1c415ad-6b7a-4328-93ab-b99c2071bb3b\" class=\"colab-df-container\">\n",
              "    <div>\n",
              "<style scoped>\n",
              "    .dataframe tbody tr th:only-of-type {\n",
              "        vertical-align: middle;\n",
              "    }\n",
              "\n",
              "    .dataframe tbody tr th {\n",
              "        vertical-align: top;\n",
              "    }\n",
              "\n",
              "    .dataframe thead th {\n",
              "        text-align: right;\n",
              "    }\n",
              "</style>\n",
              "<table border=\"1\" class=\"dataframe\">\n",
              "  <thead>\n",
              "    <tr style=\"text-align: right;\">\n",
              "      <th></th>\n",
              "      <th>Image</th>\n",
              "      <th>corner_0_x</th>\n",
              "      <th>corner_0_y</th>\n",
              "      <th>corner_1_x</th>\n",
              "      <th>corner_1_y</th>\n",
              "      <th>corner_2_x</th>\n",
              "      <th>corner_2_y</th>\n",
              "      <th>corner_3_x</th>\n",
              "      <th>corner_3_y</th>\n",
              "      <th>area</th>\n",
              "      <th>angle_from_180</th>\n",
              "      <th>vx</th>\n",
              "      <th>vy</th>\n",
              "      <th>vz</th>\n",
              "      <th>omega_z</th>\n",
              "    </tr>\n",
              "  </thead>\n",
              "  <tbody>\n",
              "    <tr>\n",
              "      <th>0</th>\n",
              "      <td>1_{1}</td>\n",
              "      <td>244.169205</td>\n",
              "      <td>328.602478</td>\n",
              "      <td>234.663773</td>\n",
              "      <td>373.302673</td>\n",
              "      <td>190.005295</td>\n",
              "      <td>365.820526</td>\n",
              "      <td>200.219879</td>\n",
              "      <td>320.625854</td>\n",
              "      <td>2067.558476</td>\n",
              "      <td>282.005043</td>\n",
              "      <td>-0.545209</td>\n",
              "      <td>0.556323</td>\n",
              "      <td>-0.962746</td>\n",
              "      <td>0.551217</td>\n",
              "    </tr>\n",
              "    <tr>\n",
              "      <th>1</th>\n",
              "      <td>1_{2}</td>\n",
              "      <td>245.349380</td>\n",
              "      <td>323.338013</td>\n",
              "      <td>234.615555</td>\n",
              "      <td>367.807251</td>\n",
              "      <td>189.901062</td>\n",
              "      <td>358.916748</td>\n",
              "      <td>201.562943</td>\n",
              "      <td>314.169098</td>\n",
              "      <td>2075.057770</td>\n",
              "      <td>283.570278</td>\n",
              "      <td>-0.525417</td>\n",
              "      <td>0.564068</td>\n",
              "      <td>-0.934628</td>\n",
              "      <td>0.539146</td>\n",
              "    </tr>\n",
              "    <tr>\n",
              "      <th>2</th>\n",
              "      <td>1_{3}</td>\n",
              "      <td>247.017273</td>\n",
              "      <td>317.527374</td>\n",
              "      <td>234.862045</td>\n",
              "      <td>361.913330</td>\n",
              "      <td>190.342285</td>\n",
              "      <td>351.158081</td>\n",
              "      <td>203.166306</td>\n",
              "      <td>306.518738</td>\n",
              "      <td>2102.718986</td>\n",
              "      <td>285.315136</td>\n",
              "      <td>-0.489564</td>\n",
              "      <td>0.563228</td>\n",
              "      <td>-0.906020</td>\n",
              "      <td>0.525603</td>\n",
              "    </tr>\n",
              "    <tr>\n",
              "      <th>3</th>\n",
              "      <td>1_{4}</td>\n",
              "      <td>247.017273</td>\n",
              "      <td>317.527374</td>\n",
              "      <td>234.862045</td>\n",
              "      <td>361.913330</td>\n",
              "      <td>190.342285</td>\n",
              "      <td>351.158081</td>\n",
              "      <td>203.166306</td>\n",
              "      <td>306.518738</td>\n",
              "      <td>2102.718986</td>\n",
              "      <td>285.315136</td>\n",
              "      <td>-0.489564</td>\n",
              "      <td>0.563228</td>\n",
              "      <td>-0.906020</td>\n",
              "      <td>0.525603</td>\n",
              "    </tr>\n",
              "    <tr>\n",
              "      <th>4</th>\n",
              "      <td>1_{5}</td>\n",
              "      <td>248.525940</td>\n",
              "      <td>313.486206</td>\n",
              "      <td>235.355316</td>\n",
              "      <td>357.914337</td>\n",
              "      <td>191.035065</td>\n",
              "      <td>345.874908</td>\n",
              "      <td>204.680862</td>\n",
              "      <td>301.493683</td>\n",
              "      <td>2118.589275</td>\n",
              "      <td>286.512343</td>\n",
              "      <td>-0.469736</td>\n",
              "      <td>0.559267</td>\n",
              "      <td>-0.887602</td>\n",
              "      <td>0.516885</td>\n",
              "    </tr>\n",
              "  </tbody>\n",
              "</table>\n",
              "</div>\n",
              "    <div class=\"colab-df-buttons\">\n",
              "\n",
              "  <div class=\"colab-df-container\">\n",
              "    <button class=\"colab-df-convert\" onclick=\"convertToInteractive('df-c1c415ad-6b7a-4328-93ab-b99c2071bb3b')\"\n",
              "            title=\"Convert this dataframe to an interactive table.\"\n",
              "            style=\"display:none;\">\n",
              "\n",
              "  <svg xmlns=\"http://www.w3.org/2000/svg\" height=\"24px\" viewBox=\"0 -960 960 960\">\n",
              "    <path d=\"M120-120v-720h720v720H120Zm60-500h600v-160H180v160Zm220 220h160v-160H400v160Zm0 220h160v-160H400v160ZM180-400h160v-160H180v160Zm440 0h160v-160H620v160ZM180-180h160v-160H180v160Zm440 0h160v-160H620v160Z\"/>\n",
              "  </svg>\n",
              "    </button>\n",
              "\n",
              "  <style>\n",
              "    .colab-df-container {\n",
              "      display:flex;\n",
              "      gap: 12px;\n",
              "    }\n",
              "\n",
              "    .colab-df-convert {\n",
              "      background-color: #E8F0FE;\n",
              "      border: none;\n",
              "      border-radius: 50%;\n",
              "      cursor: pointer;\n",
              "      display: none;\n",
              "      fill: #1967D2;\n",
              "      height: 32px;\n",
              "      padding: 0 0 0 0;\n",
              "      width: 32px;\n",
              "    }\n",
              "\n",
              "    .colab-df-convert:hover {\n",
              "      background-color: #E2EBFA;\n",
              "      box-shadow: 0px 1px 2px rgba(60, 64, 67, 0.3), 0px 1px 3px 1px rgba(60, 64, 67, 0.15);\n",
              "      fill: #174EA6;\n",
              "    }\n",
              "\n",
              "    .colab-df-buttons div {\n",
              "      margin-bottom: 4px;\n",
              "    }\n",
              "\n",
              "    [theme=dark] .colab-df-convert {\n",
              "      background-color: #3B4455;\n",
              "      fill: #D2E3FC;\n",
              "    }\n",
              "\n",
              "    [theme=dark] .colab-df-convert:hover {\n",
              "      background-color: #434B5C;\n",
              "      box-shadow: 0px 1px 3px 1px rgba(0, 0, 0, 0.15);\n",
              "      filter: drop-shadow(0px 1px 2px rgba(0, 0, 0, 0.3));\n",
              "      fill: #FFFFFF;\n",
              "    }\n",
              "  </style>\n",
              "\n",
              "    <script>\n",
              "      const buttonEl =\n",
              "        document.querySelector('#df-c1c415ad-6b7a-4328-93ab-b99c2071bb3b button.colab-df-convert');\n",
              "      buttonEl.style.display =\n",
              "        google.colab.kernel.accessAllowed ? 'block' : 'none';\n",
              "\n",
              "      async function convertToInteractive(key) {\n",
              "        const element = document.querySelector('#df-c1c415ad-6b7a-4328-93ab-b99c2071bb3b');\n",
              "        const dataTable =\n",
              "          await google.colab.kernel.invokeFunction('convertToInteractive',\n",
              "                                                    [key], {});\n",
              "        if (!dataTable) return;\n",
              "\n",
              "        const docLinkHtml = 'Like what you see? Visit the ' +\n",
              "          '<a target=\"_blank\" href=https://colab.research.google.com/notebooks/data_table.ipynb>data table notebook</a>'\n",
              "          + ' to learn more about interactive tables.';\n",
              "        element.innerHTML = '';\n",
              "        dataTable['output_type'] = 'display_data';\n",
              "        await google.colab.output.renderOutput(dataTable, element);\n",
              "        const docLink = document.createElement('div');\n",
              "        docLink.innerHTML = docLinkHtml;\n",
              "        element.appendChild(docLink);\n",
              "      }\n",
              "    </script>\n",
              "  </div>\n",
              "\n",
              "\n",
              "    <div id=\"df-f8ba6949-eb55-4a07-b4a2-ec2907fbe7f8\">\n",
              "      <button class=\"colab-df-quickchart\" onclick=\"quickchart('df-f8ba6949-eb55-4a07-b4a2-ec2907fbe7f8')\"\n",
              "                title=\"Suggest charts\"\n",
              "                style=\"display:none;\">\n",
              "\n",
              "<svg xmlns=\"http://www.w3.org/2000/svg\" height=\"24px\"viewBox=\"0 0 24 24\"\n",
              "     width=\"24px\">\n",
              "    <g>\n",
              "        <path d=\"M19 3H5c-1.1 0-2 .9-2 2v14c0 1.1.9 2 2 2h14c1.1 0 2-.9 2-2V5c0-1.1-.9-2-2-2zM9 17H7v-7h2v7zm4 0h-2V7h2v10zm4 0h-2v-4h2v4z\"/>\n",
              "    </g>\n",
              "</svg>\n",
              "      </button>\n",
              "\n",
              "<style>\n",
              "  .colab-df-quickchart {\n",
              "      --bg-color: #E8F0FE;\n",
              "      --fill-color: #1967D2;\n",
              "      --hover-bg-color: #E2EBFA;\n",
              "      --hover-fill-color: #174EA6;\n",
              "      --disabled-fill-color: #AAA;\n",
              "      --disabled-bg-color: #DDD;\n",
              "  }\n",
              "\n",
              "  [theme=dark] .colab-df-quickchart {\n",
              "      --bg-color: #3B4455;\n",
              "      --fill-color: #D2E3FC;\n",
              "      --hover-bg-color: #434B5C;\n",
              "      --hover-fill-color: #FFFFFF;\n",
              "      --disabled-bg-color: #3B4455;\n",
              "      --disabled-fill-color: #666;\n",
              "  }\n",
              "\n",
              "  .colab-df-quickchart {\n",
              "    background-color: var(--bg-color);\n",
              "    border: none;\n",
              "    border-radius: 50%;\n",
              "    cursor: pointer;\n",
              "    display: none;\n",
              "    fill: var(--fill-color);\n",
              "    height: 32px;\n",
              "    padding: 0;\n",
              "    width: 32px;\n",
              "  }\n",
              "\n",
              "  .colab-df-quickchart:hover {\n",
              "    background-color: var(--hover-bg-color);\n",
              "    box-shadow: 0 1px 2px rgba(60, 64, 67, 0.3), 0 1px 3px 1px rgba(60, 64, 67, 0.15);\n",
              "    fill: var(--button-hover-fill-color);\n",
              "  }\n",
              "\n",
              "  .colab-df-quickchart-complete:disabled,\n",
              "  .colab-df-quickchart-complete:disabled:hover {\n",
              "    background-color: var(--disabled-bg-color);\n",
              "    fill: var(--disabled-fill-color);\n",
              "    box-shadow: none;\n",
              "  }\n",
              "\n",
              "  .colab-df-spinner {\n",
              "    border: 2px solid var(--fill-color);\n",
              "    border-color: transparent;\n",
              "    border-bottom-color: var(--fill-color);\n",
              "    animation:\n",
              "      spin 1s steps(1) infinite;\n",
              "  }\n",
              "\n",
              "  @keyframes spin {\n",
              "    0% {\n",
              "      border-color: transparent;\n",
              "      border-bottom-color: var(--fill-color);\n",
              "      border-left-color: var(--fill-color);\n",
              "    }\n",
              "    20% {\n",
              "      border-color: transparent;\n",
              "      border-left-color: var(--fill-color);\n",
              "      border-top-color: var(--fill-color);\n",
              "    }\n",
              "    30% {\n",
              "      border-color: transparent;\n",
              "      border-left-color: var(--fill-color);\n",
              "      border-top-color: var(--fill-color);\n",
              "      border-right-color: var(--fill-color);\n",
              "    }\n",
              "    40% {\n",
              "      border-color: transparent;\n",
              "      border-right-color: var(--fill-color);\n",
              "      border-top-color: var(--fill-color);\n",
              "    }\n",
              "    60% {\n",
              "      border-color: transparent;\n",
              "      border-right-color: var(--fill-color);\n",
              "    }\n",
              "    80% {\n",
              "      border-color: transparent;\n",
              "      border-right-color: var(--fill-color);\n",
              "      border-bottom-color: var(--fill-color);\n",
              "    }\n",
              "    90% {\n",
              "      border-color: transparent;\n",
              "      border-bottom-color: var(--fill-color);\n",
              "    }\n",
              "  }\n",
              "</style>\n",
              "\n",
              "      <script>\n",
              "        async function quickchart(key) {\n",
              "          const quickchartButtonEl =\n",
              "            document.querySelector('#' + key + ' button');\n",
              "          quickchartButtonEl.disabled = true;  // To prevent multiple clicks.\n",
              "          quickchartButtonEl.classList.add('colab-df-spinner');\n",
              "          try {\n",
              "            const charts = await google.colab.kernel.invokeFunction(\n",
              "                'suggestCharts', [key], {});\n",
              "          } catch (error) {\n",
              "            console.error('Error during call to suggestCharts:', error);\n",
              "          }\n",
              "          quickchartButtonEl.classList.remove('colab-df-spinner');\n",
              "          quickchartButtonEl.classList.add('colab-df-quickchart-complete');\n",
              "        }\n",
              "        (() => {\n",
              "          let quickchartButtonEl =\n",
              "            document.querySelector('#df-f8ba6949-eb55-4a07-b4a2-ec2907fbe7f8 button');\n",
              "          quickchartButtonEl.style.display =\n",
              "            google.colab.kernel.accessAllowed ? 'block' : 'none';\n",
              "        })();\n",
              "      </script>\n",
              "    </div>\n",
              "\n",
              "    </div>\n",
              "  </div>\n"
            ],
            "text/plain": [
              "   Image  corner_0_x  corner_0_y  corner_1_x  corner_1_y  corner_2_x  \\\n",
              "0  1_{1}  244.169205  328.602478  234.663773  373.302673  190.005295   \n",
              "1  1_{2}  245.349380  323.338013  234.615555  367.807251  189.901062   \n",
              "2  1_{3}  247.017273  317.527374  234.862045  361.913330  190.342285   \n",
              "3  1_{4}  247.017273  317.527374  234.862045  361.913330  190.342285   \n",
              "4  1_{5}  248.525940  313.486206  235.355316  357.914337  191.035065   \n",
              "\n",
              "   corner_2_y  corner_3_x  corner_3_y         area  angle_from_180        vx  \\\n",
              "0  365.820526  200.219879  320.625854  2067.558476      282.005043 -0.545209   \n",
              "1  358.916748  201.562943  314.169098  2075.057770      283.570278 -0.525417   \n",
              "2  351.158081  203.166306  306.518738  2102.718986      285.315136 -0.489564   \n",
              "3  351.158081  203.166306  306.518738  2102.718986      285.315136 -0.489564   \n",
              "4  345.874908  204.680862  301.493683  2118.589275      286.512343 -0.469736   \n",
              "\n",
              "         vy        vz   omega_z  \n",
              "0  0.556323 -0.962746  0.551217  \n",
              "1  0.564068 -0.934628  0.539146  \n",
              "2  0.563228 -0.906020  0.525603  \n",
              "3  0.563228 -0.906020  0.525603  \n",
              "4  0.559267 -0.887602  0.516885  "
            ]
          },
          "execution_count": 10,
          "metadata": {},
          "output_type": "execute_result"
        }
      ],
      "source": [
        "data = pd.read_csv(\"https://raw.githubusercontent.com/AkankshaSingal8/UAV_Tracking_Explainable/refs/heads/main/merged_dset.csv\")\n",
        "data.head()"
      ]
    },
    {
      "cell_type": "code",
      "execution_count": 42,
      "metadata": {
        "colab": {
          "base_uri": "https://localhost:8080/"
        },
        "id": "rus5KDKAfdyY",
        "outputId": "95f5afd9-6732-4e37-ed7d-613a50a35fa7"
      },
      "outputs": [
        {
          "name": "stdout",
          "output_type": "stream",
          "text": [
            "-0.8696004152297974\n",
            "0.5640678\n"
          ]
        }
      ],
      "source": [
        "print(data['vy'].min())\n",
        "print(data['vy'].max())"
      ]
    },
    {
      "cell_type": "code",
      "execution_count": 30,
      "metadata": {
        "colab": {
          "base_uri": "https://localhost:8080/"
        },
        "id": "zetqHtRLzYsu",
        "outputId": "38f97d2f-cf5b-4dce-cb54-a68bc3ec5eae"
      },
      "outputs": [
        {
          "name": "stderr",
          "output_type": "stream",
          "text": [
            "WARNING:dowhy.causal_model:Causal Graph not provided. DoWhy will construct a graph based on data inputs.\n",
            "WARNING:dowhy.causal_model:There are an additional 4 variables in the dataset that are not in the graph. Variable names are: '['Image', 'omega_z', 'vy', 'vz']'\n"
          ]
        },
        {
          "name": "stdout",
          "output_type": "stream",
          "text": [
            "Running model for Outcome: vx, Treatment: corner_0_x\n"
          ]
        },
        {
          "name": "stderr",
          "output_type": "stream",
          "text": [
            "WARNING:dowhy.causal_model:Causal Graph not provided. DoWhy will construct a graph based on data inputs.\n",
            "WARNING:dowhy.causal_model:There are an additional 4 variables in the dataset that are not in the graph. Variable names are: '['Image', 'omega_z', 'vy', 'vz']'\n"
          ]
        },
        {
          "name": "stdout",
          "output_type": "stream",
          "text": [
            "Running model for Outcome: vx, Treatment: corner_0_y\n"
          ]
        },
        {
          "name": "stderr",
          "output_type": "stream",
          "text": [
            "WARNING:dowhy.causal_model:Causal Graph not provided. DoWhy will construct a graph based on data inputs.\n",
            "WARNING:dowhy.causal_model:There are an additional 4 variables in the dataset that are not in the graph. Variable names are: '['Image', 'omega_z', 'vy', 'vz']'\n"
          ]
        },
        {
          "name": "stdout",
          "output_type": "stream",
          "text": [
            "Running model for Outcome: vx, Treatment: corner_1_x\n"
          ]
        },
        {
          "name": "stderr",
          "output_type": "stream",
          "text": [
            "WARNING:dowhy.causal_model:Causal Graph not provided. DoWhy will construct a graph based on data inputs.\n",
            "WARNING:dowhy.causal_model:There are an additional 4 variables in the dataset that are not in the graph. Variable names are: '['Image', 'omega_z', 'vy', 'vz']'\n"
          ]
        },
        {
          "name": "stdout",
          "output_type": "stream",
          "text": [
            "Running model for Outcome: vx, Treatment: corner_1_y\n"
          ]
        },
        {
          "name": "stderr",
          "output_type": "stream",
          "text": [
            "WARNING:dowhy.causal_model:Causal Graph not provided. DoWhy will construct a graph based on data inputs.\n",
            "WARNING:dowhy.causal_model:There are an additional 4 variables in the dataset that are not in the graph. Variable names are: '['Image', 'omega_z', 'vy', 'vz']'\n"
          ]
        },
        {
          "name": "stdout",
          "output_type": "stream",
          "text": [
            "Running model for Outcome: vx, Treatment: corner_2_x\n"
          ]
        },
        {
          "name": "stderr",
          "output_type": "stream",
          "text": [
            "WARNING:dowhy.causal_model:Causal Graph not provided. DoWhy will construct a graph based on data inputs.\n",
            "WARNING:dowhy.causal_model:There are an additional 4 variables in the dataset that are not in the graph. Variable names are: '['Image', 'omega_z', 'vy', 'vz']'\n"
          ]
        },
        {
          "name": "stdout",
          "output_type": "stream",
          "text": [
            "Running model for Outcome: vx, Treatment: corner_2_y\n"
          ]
        },
        {
          "name": "stderr",
          "output_type": "stream",
          "text": [
            "WARNING:dowhy.causal_model:Causal Graph not provided. DoWhy will construct a graph based on data inputs.\n",
            "WARNING:dowhy.causal_model:There are an additional 4 variables in the dataset that are not in the graph. Variable names are: '['Image', 'omega_z', 'vy', 'vz']'\n"
          ]
        },
        {
          "name": "stdout",
          "output_type": "stream",
          "text": [
            "Running model for Outcome: vx, Treatment: corner_3_x\n"
          ]
        },
        {
          "name": "stderr",
          "output_type": "stream",
          "text": [
            "WARNING:dowhy.causal_model:Causal Graph not provided. DoWhy will construct a graph based on data inputs.\n",
            "WARNING:dowhy.causal_model:There are an additional 4 variables in the dataset that are not in the graph. Variable names are: '['Image', 'omega_z', 'vy', 'vz']'\n"
          ]
        },
        {
          "name": "stdout",
          "output_type": "stream",
          "text": [
            "Running model for Outcome: vx, Treatment: corner_3_y\n"
          ]
        },
        {
          "name": "stderr",
          "output_type": "stream",
          "text": [
            "WARNING:dowhy.causal_model:Causal Graph not provided. DoWhy will construct a graph based on data inputs.\n",
            "WARNING:dowhy.causal_model:There are an additional 4 variables in the dataset that are not in the graph. Variable names are: '['Image', 'omega_z', 'vy', 'vz']'\n"
          ]
        },
        {
          "name": "stdout",
          "output_type": "stream",
          "text": [
            "Running model for Outcome: vx, Treatment: area\n"
          ]
        },
        {
          "name": "stderr",
          "output_type": "stream",
          "text": [
            "WARNING:dowhy.causal_model:Causal Graph not provided. DoWhy will construct a graph based on data inputs.\n",
            "WARNING:dowhy.causal_model:There are an additional 4 variables in the dataset that are not in the graph. Variable names are: '['Image', 'omega_z', 'vy', 'vz']'\n"
          ]
        },
        {
          "name": "stdout",
          "output_type": "stream",
          "text": [
            "Running model for Outcome: vx, Treatment: angle_from_180\n"
          ]
        },
        {
          "name": "stderr",
          "output_type": "stream",
          "text": [
            "WARNING:dowhy.causal_model:Causal Graph not provided. DoWhy will construct a graph based on data inputs.\n",
            "WARNING:dowhy.causal_model:There are an additional 4 variables in the dataset that are not in the graph. Variable names are: '['Image', 'omega_z', 'vx', 'vz']'\n"
          ]
        },
        {
          "name": "stdout",
          "output_type": "stream",
          "text": [
            "Running model for Outcome: vy, Treatment: corner_0_x\n"
          ]
        },
        {
          "name": "stderr",
          "output_type": "stream",
          "text": [
            "WARNING:dowhy.causal_model:Causal Graph not provided. DoWhy will construct a graph based on data inputs.\n",
            "WARNING:dowhy.causal_model:There are an additional 4 variables in the dataset that are not in the graph. Variable names are: '['Image', 'omega_z', 'vx', 'vz']'\n"
          ]
        },
        {
          "name": "stdout",
          "output_type": "stream",
          "text": [
            "Running model for Outcome: vy, Treatment: corner_0_y\n"
          ]
        },
        {
          "name": "stderr",
          "output_type": "stream",
          "text": [
            "WARNING:dowhy.causal_model:Causal Graph not provided. DoWhy will construct a graph based on data inputs.\n",
            "WARNING:dowhy.causal_model:There are an additional 4 variables in the dataset that are not in the graph. Variable names are: '['Image', 'omega_z', 'vx', 'vz']'\n"
          ]
        },
        {
          "name": "stdout",
          "output_type": "stream",
          "text": [
            "Running model for Outcome: vy, Treatment: corner_1_x\n"
          ]
        },
        {
          "name": "stderr",
          "output_type": "stream",
          "text": [
            "WARNING:dowhy.causal_model:Causal Graph not provided. DoWhy will construct a graph based on data inputs.\n",
            "WARNING:dowhy.causal_model:There are an additional 4 variables in the dataset that are not in the graph. Variable names are: '['Image', 'omega_z', 'vx', 'vz']'\n"
          ]
        },
        {
          "name": "stdout",
          "output_type": "stream",
          "text": [
            "Running model for Outcome: vy, Treatment: corner_1_y\n"
          ]
        },
        {
          "name": "stderr",
          "output_type": "stream",
          "text": [
            "WARNING:dowhy.causal_model:Causal Graph not provided. DoWhy will construct a graph based on data inputs.\n",
            "WARNING:dowhy.causal_model:There are an additional 4 variables in the dataset that are not in the graph. Variable names are: '['Image', 'omega_z', 'vx', 'vz']'\n"
          ]
        },
        {
          "name": "stdout",
          "output_type": "stream",
          "text": [
            "Running model for Outcome: vy, Treatment: corner_2_x\n"
          ]
        },
        {
          "name": "stderr",
          "output_type": "stream",
          "text": [
            "WARNING:dowhy.causal_model:Causal Graph not provided. DoWhy will construct a graph based on data inputs.\n",
            "WARNING:dowhy.causal_model:There are an additional 4 variables in the dataset that are not in the graph. Variable names are: '['Image', 'omega_z', 'vx', 'vz']'\n"
          ]
        },
        {
          "name": "stdout",
          "output_type": "stream",
          "text": [
            "Running model for Outcome: vy, Treatment: corner_2_y\n"
          ]
        },
        {
          "name": "stderr",
          "output_type": "stream",
          "text": [
            "WARNING:dowhy.causal_model:Causal Graph not provided. DoWhy will construct a graph based on data inputs.\n",
            "WARNING:dowhy.causal_model:There are an additional 4 variables in the dataset that are not in the graph. Variable names are: '['Image', 'omega_z', 'vx', 'vz']'\n"
          ]
        },
        {
          "name": "stdout",
          "output_type": "stream",
          "text": [
            "Running model for Outcome: vy, Treatment: corner_3_x\n"
          ]
        },
        {
          "name": "stderr",
          "output_type": "stream",
          "text": [
            "WARNING:dowhy.causal_model:Causal Graph not provided. DoWhy will construct a graph based on data inputs.\n",
            "WARNING:dowhy.causal_model:There are an additional 4 variables in the dataset that are not in the graph. Variable names are: '['Image', 'omega_z', 'vx', 'vz']'\n"
          ]
        },
        {
          "name": "stdout",
          "output_type": "stream",
          "text": [
            "Running model for Outcome: vy, Treatment: corner_3_y\n"
          ]
        },
        {
          "name": "stderr",
          "output_type": "stream",
          "text": [
            "WARNING:dowhy.causal_model:Causal Graph not provided. DoWhy will construct a graph based on data inputs.\n",
            "WARNING:dowhy.causal_model:There are an additional 4 variables in the dataset that are not in the graph. Variable names are: '['Image', 'omega_z', 'vx', 'vz']'\n"
          ]
        },
        {
          "name": "stdout",
          "output_type": "stream",
          "text": [
            "Running model for Outcome: vy, Treatment: area\n"
          ]
        },
        {
          "name": "stderr",
          "output_type": "stream",
          "text": [
            "WARNING:dowhy.causal_model:Causal Graph not provided. DoWhy will construct a graph based on data inputs.\n",
            "WARNING:dowhy.causal_model:There are an additional 4 variables in the dataset that are not in the graph. Variable names are: '['Image', 'omega_z', 'vx', 'vz']'\n"
          ]
        },
        {
          "name": "stdout",
          "output_type": "stream",
          "text": [
            "Running model for Outcome: vy, Treatment: angle_from_180\n"
          ]
        },
        {
          "name": "stderr",
          "output_type": "stream",
          "text": [
            "WARNING:dowhy.causal_model:Causal Graph not provided. DoWhy will construct a graph based on data inputs.\n",
            "WARNING:dowhy.causal_model:There are an additional 4 variables in the dataset that are not in the graph. Variable names are: '['Image', 'omega_z', 'vx', 'vy']'\n"
          ]
        },
        {
          "name": "stdout",
          "output_type": "stream",
          "text": [
            "Running model for Outcome: vz, Treatment: corner_0_x\n"
          ]
        },
        {
          "name": "stderr",
          "output_type": "stream",
          "text": [
            "WARNING:dowhy.causal_model:Causal Graph not provided. DoWhy will construct a graph based on data inputs.\n",
            "WARNING:dowhy.causal_model:There are an additional 4 variables in the dataset that are not in the graph. Variable names are: '['Image', 'omega_z', 'vx', 'vy']'\n"
          ]
        },
        {
          "name": "stdout",
          "output_type": "stream",
          "text": [
            "Running model for Outcome: vz, Treatment: corner_0_y\n"
          ]
        },
        {
          "name": "stderr",
          "output_type": "stream",
          "text": [
            "WARNING:dowhy.causal_model:Causal Graph not provided. DoWhy will construct a graph based on data inputs.\n",
            "WARNING:dowhy.causal_model:There are an additional 4 variables in the dataset that are not in the graph. Variable names are: '['Image', 'omega_z', 'vx', 'vy']'\n"
          ]
        },
        {
          "name": "stdout",
          "output_type": "stream",
          "text": [
            "Running model for Outcome: vz, Treatment: corner_1_x\n"
          ]
        },
        {
          "name": "stderr",
          "output_type": "stream",
          "text": [
            "WARNING:dowhy.causal_model:Causal Graph not provided. DoWhy will construct a graph based on data inputs.\n",
            "WARNING:dowhy.causal_model:There are an additional 4 variables in the dataset that are not in the graph. Variable names are: '['Image', 'omega_z', 'vx', 'vy']'\n"
          ]
        },
        {
          "name": "stdout",
          "output_type": "stream",
          "text": [
            "Running model for Outcome: vz, Treatment: corner_1_y\n"
          ]
        },
        {
          "name": "stderr",
          "output_type": "stream",
          "text": [
            "WARNING:dowhy.causal_model:Causal Graph not provided. DoWhy will construct a graph based on data inputs.\n",
            "WARNING:dowhy.causal_model:There are an additional 4 variables in the dataset that are not in the graph. Variable names are: '['Image', 'omega_z', 'vx', 'vy']'\n"
          ]
        },
        {
          "name": "stdout",
          "output_type": "stream",
          "text": [
            "Running model for Outcome: vz, Treatment: corner_2_x\n"
          ]
        },
        {
          "name": "stderr",
          "output_type": "stream",
          "text": [
            "WARNING:dowhy.causal_model:Causal Graph not provided. DoWhy will construct a graph based on data inputs.\n",
            "WARNING:dowhy.causal_model:There are an additional 4 variables in the dataset that are not in the graph. Variable names are: '['Image', 'omega_z', 'vx', 'vy']'\n"
          ]
        },
        {
          "name": "stdout",
          "output_type": "stream",
          "text": [
            "Running model for Outcome: vz, Treatment: corner_2_y\n"
          ]
        },
        {
          "name": "stderr",
          "output_type": "stream",
          "text": [
            "WARNING:dowhy.causal_model:Causal Graph not provided. DoWhy will construct a graph based on data inputs.\n",
            "WARNING:dowhy.causal_model:There are an additional 4 variables in the dataset that are not in the graph. Variable names are: '['Image', 'omega_z', 'vx', 'vy']'\n"
          ]
        },
        {
          "name": "stdout",
          "output_type": "stream",
          "text": [
            "Running model for Outcome: vz, Treatment: corner_3_x\n"
          ]
        },
        {
          "name": "stderr",
          "output_type": "stream",
          "text": [
            "WARNING:dowhy.causal_model:Causal Graph not provided. DoWhy will construct a graph based on data inputs.\n",
            "WARNING:dowhy.causal_model:There are an additional 4 variables in the dataset that are not in the graph. Variable names are: '['Image', 'omega_z', 'vx', 'vy']'\n"
          ]
        },
        {
          "name": "stdout",
          "output_type": "stream",
          "text": [
            "Running model for Outcome: vz, Treatment: corner_3_y\n"
          ]
        },
        {
          "name": "stderr",
          "output_type": "stream",
          "text": [
            "WARNING:dowhy.causal_model:Causal Graph not provided. DoWhy will construct a graph based on data inputs.\n",
            "WARNING:dowhy.causal_model:There are an additional 4 variables in the dataset that are not in the graph. Variable names are: '['Image', 'omega_z', 'vx', 'vy']'\n"
          ]
        },
        {
          "name": "stdout",
          "output_type": "stream",
          "text": [
            "Running model for Outcome: vz, Treatment: area\n"
          ]
        },
        {
          "name": "stderr",
          "output_type": "stream",
          "text": [
            "WARNING:dowhy.causal_model:Causal Graph not provided. DoWhy will construct a graph based on data inputs.\n",
            "WARNING:dowhy.causal_model:There are an additional 4 variables in the dataset that are not in the graph. Variable names are: '['Image', 'omega_z', 'vx', 'vy']'\n"
          ]
        },
        {
          "name": "stdout",
          "output_type": "stream",
          "text": [
            "Running model for Outcome: vz, Treatment: angle_from_180\n"
          ]
        },
        {
          "name": "stderr",
          "output_type": "stream",
          "text": [
            "WARNING:dowhy.causal_model:Causal Graph not provided. DoWhy will construct a graph based on data inputs.\n",
            "WARNING:dowhy.causal_model:There are an additional 4 variables in the dataset that are not in the graph. Variable names are: '['Image', 'vx', 'vy', 'vz']'\n"
          ]
        },
        {
          "name": "stdout",
          "output_type": "stream",
          "text": [
            "Running model for Outcome: omega_z, Treatment: corner_0_x\n"
          ]
        },
        {
          "name": "stderr",
          "output_type": "stream",
          "text": [
            "WARNING:dowhy.causal_model:Causal Graph not provided. DoWhy will construct a graph based on data inputs.\n",
            "WARNING:dowhy.causal_model:There are an additional 4 variables in the dataset that are not in the graph. Variable names are: '['Image', 'vx', 'vy', 'vz']'\n"
          ]
        },
        {
          "name": "stdout",
          "output_type": "stream",
          "text": [
            "Running model for Outcome: omega_z, Treatment: corner_0_y\n"
          ]
        },
        {
          "name": "stderr",
          "output_type": "stream",
          "text": [
            "WARNING:dowhy.causal_model:Causal Graph not provided. DoWhy will construct a graph based on data inputs.\n",
            "WARNING:dowhy.causal_model:There are an additional 4 variables in the dataset that are not in the graph. Variable names are: '['Image', 'vx', 'vy', 'vz']'\n"
          ]
        },
        {
          "name": "stdout",
          "output_type": "stream",
          "text": [
            "Running model for Outcome: omega_z, Treatment: corner_1_x\n"
          ]
        },
        {
          "name": "stderr",
          "output_type": "stream",
          "text": [
            "WARNING:dowhy.causal_model:Causal Graph not provided. DoWhy will construct a graph based on data inputs.\n",
            "WARNING:dowhy.causal_model:There are an additional 4 variables in the dataset that are not in the graph. Variable names are: '['Image', 'vx', 'vy', 'vz']'\n"
          ]
        },
        {
          "name": "stdout",
          "output_type": "stream",
          "text": [
            "Running model for Outcome: omega_z, Treatment: corner_1_y\n"
          ]
        },
        {
          "name": "stderr",
          "output_type": "stream",
          "text": [
            "WARNING:dowhy.causal_model:Causal Graph not provided. DoWhy will construct a graph based on data inputs.\n",
            "WARNING:dowhy.causal_model:There are an additional 4 variables in the dataset that are not in the graph. Variable names are: '['Image', 'vx', 'vy', 'vz']'\n"
          ]
        },
        {
          "name": "stdout",
          "output_type": "stream",
          "text": [
            "Running model for Outcome: omega_z, Treatment: corner_2_x\n"
          ]
        },
        {
          "name": "stderr",
          "output_type": "stream",
          "text": [
            "WARNING:dowhy.causal_model:Causal Graph not provided. DoWhy will construct a graph based on data inputs.\n",
            "WARNING:dowhy.causal_model:There are an additional 4 variables in the dataset that are not in the graph. Variable names are: '['Image', 'vx', 'vy', 'vz']'\n"
          ]
        },
        {
          "name": "stdout",
          "output_type": "stream",
          "text": [
            "Running model for Outcome: omega_z, Treatment: corner_2_y\n"
          ]
        },
        {
          "name": "stderr",
          "output_type": "stream",
          "text": [
            "WARNING:dowhy.causal_model:Causal Graph not provided. DoWhy will construct a graph based on data inputs.\n",
            "WARNING:dowhy.causal_model:There are an additional 4 variables in the dataset that are not in the graph. Variable names are: '['Image', 'vx', 'vy', 'vz']'\n"
          ]
        },
        {
          "name": "stdout",
          "output_type": "stream",
          "text": [
            "Running model for Outcome: omega_z, Treatment: corner_3_x\n"
          ]
        },
        {
          "name": "stderr",
          "output_type": "stream",
          "text": [
            "WARNING:dowhy.causal_model:Causal Graph not provided. DoWhy will construct a graph based on data inputs.\n",
            "WARNING:dowhy.causal_model:There are an additional 4 variables in the dataset that are not in the graph. Variable names are: '['Image', 'vx', 'vy', 'vz']'\n"
          ]
        },
        {
          "name": "stdout",
          "output_type": "stream",
          "text": [
            "Running model for Outcome: omega_z, Treatment: corner_3_y\n"
          ]
        },
        {
          "name": "stderr",
          "output_type": "stream",
          "text": [
            "WARNING:dowhy.causal_model:Causal Graph not provided. DoWhy will construct a graph based on data inputs.\n",
            "WARNING:dowhy.causal_model:There are an additional 4 variables in the dataset that are not in the graph. Variable names are: '['Image', 'vx', 'vy', 'vz']'\n"
          ]
        },
        {
          "name": "stdout",
          "output_type": "stream",
          "text": [
            "Running model for Outcome: omega_z, Treatment: area\n"
          ]
        },
        {
          "name": "stderr",
          "output_type": "stream",
          "text": [
            "WARNING:dowhy.causal_model:Causal Graph not provided. DoWhy will construct a graph based on data inputs.\n",
            "WARNING:dowhy.causal_model:There are an additional 4 variables in the dataset that are not in the graph. Variable names are: '['Image', 'vx', 'vy', 'vz']'\n"
          ]
        },
        {
          "name": "stdout",
          "output_type": "stream",
          "text": [
            "Running model for Outcome: omega_z, Treatment: angle_from_180\n"
          ]
        }
      ],
      "source": [
        "all_outcomes = [\"vx\", \"vy\", \"vz\", \"omega_z\"]\n",
        "common_causes = [\"corner_0_x\", \"corner_0_y\", \"corner_1_x\", \"corner_1_y\", \"corner_2_x\", \"corner_2_y\", \"corner_3_x\", \"corner_3_y\", \"area\", \"angle_from_180\"]\n",
        "results = {}\n",
        "\n",
        "for outcome in all_outcomes:\n",
        "    for treatment in common_causes:\n",
        "        print(f\"Running model for Outcome: {outcome}, Treatment: {treatment}\")\n",
        "        adjusted_common_causes = [c for c in common_causes if c != treatment]\n",
        "\n",
        "        try:\n",
        "            model = CausalModel(\n",
        "                data=data,\n",
        "                treatment=treatment,\n",
        "                outcome=outcome,\n",
        "                common_causes=adjusted_common_causes\n",
        "            )\n",
        "\n",
        "            identified_estimand = model.identify_effect(\n",
        "                proceed_when_unidentifiable=True,\n",
        "                method_name=\"maximal-adjustment\"\n",
        "            )\n",
        "\n",
        "            estimate = model.estimate_effect(\n",
        "                identified_estimand,\n",
        "                method_name=\"backdoor.linear_regression\",\n",
        "                test_significance=True\n",
        "            )\n",
        "\n",
        "            refute_results = model.refute_estimate(\n",
        "                identified_estimand,\n",
        "                estimate,\n",
        "                method_name=\"random_common_cause\"\n",
        "            )\n",
        "\n",
        "            res_placebo = model.refute_estimate(\n",
        "                identified_estimand,\n",
        "                estimate,\n",
        "                method_name=\"placebo_treatment_refuter\",\n",
        "                placebo_type=\"permute\"\n",
        "            )\n",
        "\n",
        "            res_subset = model.refute_estimate(\n",
        "                identified_estimand,\n",
        "                estimate,\n",
        "                method_name=\"data_subset_refuter\",\n",
        "                subset_fraction=0.9\n",
        "            )\n",
        "\n",
        "            # Store results\n",
        "            results[(outcome, treatment)] = {\n",
        "                \"estimate\": estimate,\n",
        "                \"refute_random\": refute_results,\n",
        "                \"refute_placebo\": res_placebo,\n",
        "                \"refute_subset\": res_subset\n",
        "            }\n",
        "\n",
        "        except Exception as e:\n",
        "            print(f\"Failed for Outcome: {outcome}, Treatment: {treatment}. Error: {e}\")\n",
        "            results[(outcome, treatment)] = {\n",
        "                \"error\": str(e)\n",
        "            }"
      ]
    },
    {
      "cell_type": "code",
      "execution_count": 32,
      "metadata": {
        "id": "NRarBzwQOOnP"
      },
      "outputs": [],
      "source": [
        "# save results in file\n",
        "import pickle\n",
        "with open('results.pkl', 'wb') as f:\n",
        "    pickle.dump(results, f)"
      ]
    },
    {
      "cell_type": "code",
      "execution_count": 33,
      "metadata": {
        "id": "K7yCtkahcfsr"
      },
      "outputs": [],
      "source": [
        "# load results from pickle file\n",
        "import pickle\n",
        "with open('results.pkl', 'rb') as f:\n",
        "    loaded_results = pickle.load(f)"
      ]
    },
    {
      "cell_type": "code",
      "execution_count": 41,
      "metadata": {
        "colab": {
          "base_uri": "https://localhost:8080/"
        },
        "id": "7i0bHHsWcpYa",
        "outputId": "4d2907cd-dabe-46b7-eb25-3055aa206456"
      },
      "outputs": [
        {
          "name": "stdout",
          "output_type": "stream",
          "text": [
            "*** Causal Estimate ***\n",
            "\n",
            "## Identified estimand\n",
            "Estimand type: EstimandType.NONPARAMETRIC_ATE\n",
            "\n",
            "### Estimand : 1\n",
            "Estimand name: backdoor\n",
            "Estimand expression:\n",
            "     d                                                                         ↪\n",
            "────────────(E[vy|corner_0_x,corner_3_y,corner_3_x,angle_from_180,area,corner_ ↪\n",
            "d[corner₂ ₓ]                                                                   ↪\n",
            "\n",
            "↪                                       \n",
            "↪ 0_y,corner_2_y,corner_1_y,corner_1_x])\n",
            "↪                                       \n",
            "Estimand assumption 1, Unconfoundedness: If U→{corner_2_x} and U→vy then P(vy|corner_2_x,corner_0_x,corner_3_y,corner_3_x,angle_from_180,area,corner_0_y,corner_2_y,corner_1_y,corner_1_x,U) = P(vy|corner_2_x,corner_0_x,corner_3_y,corner_3_x,angle_from_180,area,corner_0_y,corner_2_y,corner_1_y,corner_1_x)\n",
            "\n",
            "## Realized estimand\n",
            "b: vy~corner_2_x+corner_0_x+corner_3_y+corner_3_x+angle_from_180+area+corner_0_y+corner_2_y+corner_1_y+corner_1_x\n",
            "Target units: ate\n",
            "\n",
            "## Estimate\n",
            "Mean value: -0.007557015218341068\n",
            "p-value: [2.2993298e-204]\n",
            "\n",
            "Refute: Add a random common cause\n",
            "Estimated effect:-0.007557015218341068\n",
            "New effect:-0.007556915286735273\n",
            "p value:0.8\n",
            "\n",
            "Refute: Use a Placebo Treatment\n",
            "Estimated effect:-0.007557015218341068\n",
            "New effect:6.227634185833331e-08\n",
            "p value:0.9199999999999999\n",
            "\n",
            "Refute: Use a subset of data\n",
            "Estimated effect:-0.007557015218341068\n",
            "New effect:-0.007512203475740926\n",
            "p value:0.98\n",
            "\n"
          ]
        }
      ],
      "source": [
        "print(loaded_results[('vy', 'corner_2_x')]['estimate'])\n",
        "print(loaded_results[('vy', 'corner_2_x')]['refute_random'])\n",
        "print(loaded_results[('vy', 'corner_2_x')]['refute_placebo'])\n",
        "print(loaded_results[('vy', 'corner_2_x')]['refute_subset'])"
      ]
    },
    {
      "cell_type": "code",
      "execution_count": null,
      "metadata": {
        "id": "oQ7FMzwtzT0A"
      },
      "outputs": [],
      "source": [
        "all_outcomes = [\"vx\", \"vy\", \"vz\", \"omega_z\"]\n",
        "common_causes = [\"corner_0_x\", \"corner_0_y\", \"corner_1_x\", \"corner_1_y\", \"corner_2_x\", \"corner_2_y\", \"corner_3_x\", \"corner_3_y\", \"area\", \"angle_from_180\"]\n",
        "outcome = \"vx\"\n",
        "treatment = \"corner_0_x\"\n",
        "common_causes.remove(treatment)"
      ]
    },
    {
      "cell_type": "code",
      "execution_count": 12,
      "metadata": {
        "colab": {
          "base_uri": "https://localhost:8080/",
          "height": 691
        },
        "id": "Lw5mif3qKgcM",
        "outputId": "41d1cdf6-c5e5-4c3b-ea2f-af096e612b67"
      },
      "outputs": [
        {
          "name": "stderr",
          "output_type": "stream",
          "text": [
            "WARNING:dowhy.causal_model:Causal Graph not provided. DoWhy will construct a graph based on data inputs.\n",
            "WARNING:dowhy.causal_model:There are an additional 4 variables in the dataset that are not in the graph. Variable names are: '['Image', 'omega_z', 'vy', 'vz']'\n"
          ]
        },
        {
          "data": {
            "image/png": "[encoded data removed]",
            "text/plain": [
              "<Figure size 800x600 with 1 Axes>"
            ]
          },
          "metadata": {},
          "output_type": "display_data"
        }
      ],
      "source": [
        "model=CausalModel(\n",
        "        data=data,\n",
        "        treatment=treatment,\n",
        "        outcome=outcome,\n",
        "        common_causes=common_causes\n",
        "        )\n",
        "model.view_model(layout=\"dot\")"
      ]
    },
    {
      "cell_type": "code",
      "execution_count": 13,
      "metadata": {
        "id": "sy107wcqKuwb"
      },
      "outputs": [],
      "source": [
        "identified_estimand = model.identify_effect(\n",
        "    proceed_when_unidentifiable=True,\n",
        "    method_name=\"maximal-adjustment\")"
      ]
    },
    {
      "cell_type": "code",
      "execution_count": 39,
      "metadata": {
        "colab": {
          "base_uri": "https://localhost:8080/"
        },
        "id": "tLGONmfXdeyl",
        "outputId": "44a51a90-87e8-4618-add1-94326f83ab63"
      },
      "outputs": [
        {
          "name": "stdout",
          "output_type": "stream",
          "text": [
            "Average Estimate is 5.816594813912168e-06\n"
          ]
        }
      ],
      "source": [
        "estimate = model.estimate_effect(\n",
        "    identified_estimand,\n",
        "    method_name=\"backdoor.linear_regression\",\n",
        "    target_units=\"ate\",         # <— ask for the average treatment effect\n",
        "    test_significance=True\n",
        ")\n",
        "print(\"Average Estimate is \" + str(estimate.value))"
      ]
    },
    {
      "cell_type": "code",
      "execution_count": 40,
      "metadata": {
        "colab": {
          "base_uri": "https://localhost:8080/"
        },
        "id": "ElwA5sskyHFM",
        "outputId": "ed39b9ed-9ca2-4133-8bd9-e3059d21af2b"
      },
      "outputs": [
        {
          "name": "stdout",
          "output_type": "stream",
          "text": [
            "*** Causal Estimate ***\n",
            "\n",
            "## Identified estimand\n",
            "Estimand type: EstimandType.NONPARAMETRIC_ATE\n",
            "\n",
            "### Estimand : 1\n",
            "Estimand name: backdoor\n",
            "Estimand expression:\n",
            "        d                                                                      ↪\n",
            "─────────────────(E[ω_z|corner_0_x,corner_3_y,corner_3_x,area,corner_0_y,corne ↪\n",
            "d[angle_from_180]                                                              ↪\n",
            "\n",
            "↪                                         \n",
            "↪ r_2_y,corner_1_y,corner_1_x,corner_2_x])\n",
            "↪                                         \n",
            "Estimand assumption 1, Unconfoundedness: If U→{angle_from_180} and U→omega_z then P(omega_z|angle_from_180,corner_0_x,corner_3_y,corner_3_x,area,corner_0_y,corner_2_y,corner_1_y,corner_1_x,corner_2_x,U) = P(omega_z|angle_from_180,corner_0_x,corner_3_y,corner_3_x,area,corner_0_y,corner_2_y,corner_1_y,corner_1_x,corner_2_x)\n",
            "\n",
            "## Realized estimand\n",
            "b: omega_z~angle_from_180+corner_0_x+corner_3_y+corner_3_x+area+corner_0_y+corner_2_y+corner_1_y+corner_1_x+corner_2_x\n",
            "Target units: ate\n",
            "\n",
            "## Estimate\n",
            "Mean value: 5.816594813912168e-06\n",
            "p-value: [1.12049822e-06]\n",
            "\n",
            "Causal Estimate is 5.816594813912168e-06\n"
          ]
        }
      ],
      "source": [
        "# Estimate the causal effect and compare it with Average Treatment Effect\n",
        "estimate = model.estimate_effect(identified_estimand,\n",
        "        method_name=\"backdoor.linear_regression\", test_significance=True\n",
        ")\n",
        "\n",
        "print(estimate)\n",
        "print(\"Causal Estimate is \" + str(estimate.value))"
      ]
    },
    {
      "cell_type": "code",
      "execution_count": 15,
      "metadata": {
        "colab": {
          "base_uri": "https://localhost:8080/"
        },
        "id": "ZsLyawdKykmt",
        "outputId": "4dceb136-e6de-4474-87d4-4aa652d99008"
      },
      "outputs": [
        {
          "name": "stdout",
          "output_type": "stream",
          "text": [
            "Refute: Add a random common cause\n",
            "Estimated effect:0.005030795808366406\n",
            "New effect:0.0050308426182891705\n",
            "p value:0.98\n",
            "\n"
          ]
        }
      ],
      "source": [
        "refute_results=model.refute_estimate(identified_estimand, estimate,\n",
        "        method_name=\"random_common_cause\")\n",
        "print(refute_results)"
      ]
    },
    {
      "cell_type": "code",
      "execution_count": 16,
      "metadata": {
        "colab": {
          "base_uri": "https://localhost:8080/"
        },
        "id": "6bWFlUX2yo5V",
        "outputId": "1d83fc0b-bdaa-4829-b67c-de411ad6a177"
      },
      "outputs": [
        {
          "name": "stdout",
          "output_type": "stream",
          "text": [
            "Refute: Use a Placebo Treatment\n",
            "Estimated effect:0.005030795808366406\n",
            "New effect:-5.757536312018825e-07\n",
            "p value:0.86\n",
            "\n"
          ]
        }
      ],
      "source": [
        "res_placebo=model.refute_estimate(identified_estimand, estimate,\n",
        "        method_name=\"placebo_treatment_refuter\", placebo_type=\"permute\")\n",
        "print(res_placebo)"
      ]
    },
    {
      "cell_type": "code",
      "execution_count": 17,
      "metadata": {
        "colab": {
          "base_uri": "https://localhost:8080/"
        },
        "id": "AL23sQpnywYy",
        "outputId": "c8b768c6-a5f7-4df9-9931-cb76485f7975"
      },
      "outputs": [
        {
          "name": "stdout",
          "output_type": "stream",
          "text": [
            "Refute: Use a subset of data\n",
            "Estimated effect:0.005030795808366406\n",
            "New effect:0.005041168483612102\n",
            "p value:0.9199999999999999\n",
            "\n"
          ]
        }
      ],
      "source": [
        "res_subset=model.refute_estimate(identified_estimand, estimate,\n",
        "        method_name=\"data_subset_refuter\", subset_fraction=0.9)\n",
        "print(res_subset)"
      ]
    },
    {
      "cell_type": "code",
      "execution_count": null,
      "metadata": {
        "id": "yWpk3WMO770o"
      },
      "outputs": [],
      "source": []
    }
  ],
  "metadata": {
    "colab": {
      "provenance": []
    },
    "kernelspec": {
      "display_name": "network-science",
      "language": "python",
      "name": "python3"
    },
    "language_info": {
      "name": "python",
      "version": "3.11.11"
    }
  },
  "nbformat": 4,
  "nbformat_minor": 0
}
