{
 "cells": [
  {
   "cell_type": "code",
   "execution_count": 4,
   "metadata": {},
   "outputs": [
    {
     "name": "stdout",
     "output_type": "stream",
     "text": [
      "Requirement already satisfied: causal-learn in /home/akanksha21008/.venv/lib/python3.10/site-packages (0.1.4.0)\n",
      "Requirement already satisfied: numpy in /home/akanksha21008/.venv/lib/python3.10/site-packages (from causal-learn) (1.23.2)\n",
      "Requirement already satisfied: scipy in /home/akanksha21008/.venv/lib/python3.10/site-packages (from causal-learn) (1.13.1)\n",
      "Requirement already satisfied: scikit-learn in /home/akanksha21008/.venv/lib/python3.10/site-packages (from causal-learn) (1.1.3)\n",
      "Requirement already satisfied: graphviz in /home/akanksha21008/.venv/lib/python3.10/site-packages (from causal-learn) (0.20.3)\n",
      "Requirement already satisfied: statsmodels in /home/akanksha21008/.venv/lib/python3.10/site-packages (from causal-learn) (0.13.5)\n",
      "Requirement already satisfied: pandas in /home/akanksha21008/.venv/lib/python3.10/site-packages (from causal-learn) (1.5.3)\n",
      "Requirement already satisfied: matplotlib in /home/akanksha21008/.venv/lib/python3.10/site-packages (from causal-learn) (3.10.0)\n",
      "Requirement already satisfied: networkx in /home/akanksha21008/.venv/lib/python3.10/site-packages (from causal-learn) (2.8.8)\n",
      "Requirement already satisfied: pydot in /home/akanksha21008/.venv/lib/python3.10/site-packages (from causal-learn) (3.0.4)\n",
      "Requirement already satisfied: tqdm in /home/akanksha21008/.venv/lib/python3.10/site-packages (from causal-learn) (4.66.5)\n",
      "Requirement already satisfied: momentchi2 in /home/akanksha21008/.venv/lib/python3.10/site-packages (from causal-learn) (0.1.8)\n",
      "Requirement already satisfied: contourpy>=1.0.1 in /home/akanksha21008/.venv/lib/python3.10/site-packages (from matplotlib->causal-learn) (1.3.1)\n",
      "Requirement already satisfied: cycler>=0.10 in /home/akanksha21008/.venv/lib/python3.10/site-packages (from matplotlib->causal-learn) (0.12.1)\n",
      "Requirement already satisfied: fonttools>=4.22.0 in /home/akanksha21008/.venv/lib/python3.10/site-packages (from matplotlib->causal-learn) (4.55.3)\n",
      "Requirement already satisfied: kiwisolver>=1.3.1 in /home/akanksha21008/.venv/lib/python3.10/site-packages (from matplotlib->causal-learn) (1.4.8)\n",
      "Requirement already satisfied: packaging>=20.0 in /home/akanksha21008/.venv/lib/python3.10/site-packages (from matplotlib->causal-learn) (24.1)\n",
      "Requirement already satisfied: pillow>=8 in /home/akanksha21008/.venv/lib/python3.10/site-packages (from matplotlib->causal-learn) (10.4.0)\n",
      "Requirement already satisfied: pyparsing>=2.3.1 in /home/akanksha21008/.venv/lib/python3.10/site-packages (from matplotlib->causal-learn) (3.2.1)\n",
      "Requirement already satisfied: python-dateutil>=2.7 in /home/akanksha21008/.venv/lib/python3.10/site-packages (from matplotlib->causal-learn) (2.9.0.post0)\n",
      "Requirement already satisfied: six>=1.5 in /home/akanksha21008/.venv/lib/python3.10/site-packages (from python-dateutil>=2.7->matplotlib->causal-learn) (1.16.0)\n",
      "Requirement already satisfied: pytz>=2020.1 in /home/akanksha21008/.venv/lib/python3.10/site-packages (from pandas->causal-learn) (2024.2)\n",
      "Requirement already satisfied: joblib>=1.0.0 in /home/akanksha21008/.venv/lib/python3.10/site-packages (from scikit-learn->causal-learn) (1.4.2)\n",
      "Requirement already satisfied: threadpoolctl>=2.0.0 in /home/akanksha21008/.venv/lib/python3.10/site-packages (from scikit-learn->causal-learn) (3.5.0)\n",
      "Requirement already satisfied: patsy>=0.5.2 in /home/akanksha21008/.venv/lib/python3.10/site-packages (from statsmodels->causal-learn) (1.0.1)\n"
     ]
    }
   ],
   "source": [
    "!pip install causal-learn"
   ]
  },
  {
   "cell_type": "code",
   "execution_count": 13,
   "metadata": {},
   "outputs": [
    {
     "name": "stdout",
     "output_type": "stream",
     "text": [
      "Requirement already satisfied: dowhy in /home/akanksha21008/.venv/lib/python3.10/site-packages (0.9.1)\n",
      "Requirement already satisfied: causal-learn<0.2.0.0,>=0.1.3.0 in /home/akanksha21008/.venv/lib/python3.10/site-packages (from dowhy) (0.1.4.0)\n",
      "Requirement already satisfied: cython<0.30.0,>=0.29.32 in /home/akanksha21008/.venv/lib/python3.10/site-packages (from dowhy) (0.29.37)\n",
      "Requirement already satisfied: econml in /home/akanksha21008/.venv/lib/python3.10/site-packages (from dowhy) (0.15.1)\n",
      "Requirement already satisfied: joblib<2.0.0,>=1.1.0 in /home/akanksha21008/.venv/lib/python3.10/site-packages (from dowhy) (1.4.2)\n",
      "Requirement already satisfied: networkx<3.0.0,>=2.8.5 in /home/akanksha21008/.venv/lib/python3.10/site-packages (from dowhy) (2.8.8)\n",
      "Requirement already satisfied: numpy<2.0.0,>=1.23.1 in /home/akanksha21008/.venv/lib/python3.10/site-packages (from dowhy) (1.23.2)\n",
      "Requirement already satisfied: pandas<2.0.0,>=1.4.3 in /home/akanksha21008/.venv/lib/python3.10/site-packages (from dowhy) (1.5.3)\n",
      "Requirement already satisfied: scikit-learn<1.2.0 in /home/akanksha21008/.venv/lib/python3.10/site-packages (from dowhy) (1.1.3)\n",
      "Requirement already satisfied: scipy<2.0.0,>=1.8.1 in /home/akanksha21008/.venv/lib/python3.10/site-packages (from dowhy) (1.13.1)\n",
      "Requirement already satisfied: sphinx_design<0.4.0,>=0.3.0 in /home/akanksha21008/.venv/lib/python3.10/site-packages (from dowhy) (0.3.0)\n",
      "Requirement already satisfied: statsmodels<0.14.0,>=0.13.2 in /home/akanksha21008/.venv/lib/python3.10/site-packages (from dowhy) (0.13.5)\n",
      "Requirement already satisfied: sympy<2.0.0,>=1.10.1 in /home/akanksha21008/.venv/lib/python3.10/site-packages (from dowhy) (1.13.1)\n",
      "Requirement already satisfied: tqdm<5.0.0,>=4.64.0 in /home/akanksha21008/.venv/lib/python3.10/site-packages (from dowhy) (4.66.5)\n",
      "Requirement already satisfied: graphviz in /home/akanksha21008/.venv/lib/python3.10/site-packages (from causal-learn<0.2.0.0,>=0.1.3.0->dowhy) (0.20.3)\n",
      "Requirement already satisfied: matplotlib in /home/akanksha21008/.venv/lib/python3.10/site-packages (from causal-learn<0.2.0.0,>=0.1.3.0->dowhy) (3.10.0)\n",
      "Requirement already satisfied: pydot in /home/akanksha21008/.venv/lib/python3.10/site-packages (from causal-learn<0.2.0.0,>=0.1.3.0->dowhy) (3.0.4)\n",
      "Requirement already satisfied: momentchi2 in /home/akanksha21008/.venv/lib/python3.10/site-packages (from causal-learn<0.2.0.0,>=0.1.3.0->dowhy) (0.1.8)\n",
      "Requirement already satisfied: python-dateutil>=2.8.1 in /home/akanksha21008/.venv/lib/python3.10/site-packages (from pandas<2.0.0,>=1.4.3->dowhy) (2.9.0.post0)\n",
      "Requirement already satisfied: pytz>=2020.1 in /home/akanksha21008/.venv/lib/python3.10/site-packages (from pandas<2.0.0,>=1.4.3->dowhy) (2024.2)\n",
      "Requirement already satisfied: threadpoolctl>=2.0.0 in /home/akanksha21008/.venv/lib/python3.10/site-packages (from scikit-learn<1.2.0->dowhy) (3.5.0)\n",
      "Requirement already satisfied: sphinx<6,>=4 in /home/akanksha21008/.venv/lib/python3.10/site-packages (from sphinx_design<0.4.0,>=0.3.0->dowhy) (5.3.0)\n",
      "Requirement already satisfied: sphinxcontrib-applehelp in /home/akanksha21008/.venv/lib/python3.10/site-packages (from sphinx<6,>=4->sphinx_design<0.4.0,>=0.3.0->dowhy) (2.0.0)\n",
      "Requirement already satisfied: sphinxcontrib-devhelp in /home/akanksha21008/.venv/lib/python3.10/site-packages (from sphinx<6,>=4->sphinx_design<0.4.0,>=0.3.0->dowhy) (2.0.0)\n",
      "Requirement already satisfied: sphinxcontrib-jsmath in /home/akanksha21008/.venv/lib/python3.10/site-packages (from sphinx<6,>=4->sphinx_design<0.4.0,>=0.3.0->dowhy) (1.0.1)\n",
      "Requirement already satisfied: sphinxcontrib-htmlhelp>=2.0.0 in /home/akanksha21008/.venv/lib/python3.10/site-packages (from sphinx<6,>=4->sphinx_design<0.4.0,>=0.3.0->dowhy) (2.1.0)\n",
      "Requirement already satisfied: sphinxcontrib-serializinghtml>=1.1.5 in /home/akanksha21008/.venv/lib/python3.10/site-packages (from sphinx<6,>=4->sphinx_design<0.4.0,>=0.3.0->dowhy) (2.0.0)\n",
      "Requirement already satisfied: sphinxcontrib-qthelp in /home/akanksha21008/.venv/lib/python3.10/site-packages (from sphinx<6,>=4->sphinx_design<0.4.0,>=0.3.0->dowhy) (2.0.0)\n",
      "Requirement already satisfied: Jinja2>=3.0 in /home/akanksha21008/.venv/lib/python3.10/site-packages (from sphinx<6,>=4->sphinx_design<0.4.0,>=0.3.0->dowhy) (3.1.4)\n",
      "Requirement already satisfied: Pygments>=2.12 in /home/akanksha21008/.venv/lib/python3.10/site-packages (from sphinx<6,>=4->sphinx_design<0.4.0,>=0.3.0->dowhy) (2.18.0)\n",
      "Requirement already satisfied: docutils<0.20,>=0.14 in /home/akanksha21008/.venv/lib/python3.10/site-packages (from sphinx<6,>=4->sphinx_design<0.4.0,>=0.3.0->dowhy) (0.19)\n",
      "Requirement already satisfied: snowballstemmer>=2.0 in /home/akanksha21008/.venv/lib/python3.10/site-packages (from sphinx<6,>=4->sphinx_design<0.4.0,>=0.3.0->dowhy) (2.2.0)\n",
      "Requirement already satisfied: babel>=2.9 in /home/akanksha21008/.venv/lib/python3.10/site-packages (from sphinx<6,>=4->sphinx_design<0.4.0,>=0.3.0->dowhy) (2.16.0)\n",
      "Requirement already satisfied: alabaster<0.8,>=0.7 in /home/akanksha21008/.venv/lib/python3.10/site-packages (from sphinx<6,>=4->sphinx_design<0.4.0,>=0.3.0->dowhy) (0.7.16)\n",
      "Requirement already satisfied: imagesize>=1.3 in /home/akanksha21008/.venv/lib/python3.10/site-packages (from sphinx<6,>=4->sphinx_design<0.4.0,>=0.3.0->dowhy) (1.4.1)\n",
      "Requirement already satisfied: requests>=2.5.0 in /home/akanksha21008/.venv/lib/python3.10/site-packages (from sphinx<6,>=4->sphinx_design<0.4.0,>=0.3.0->dowhy) (2.32.3)\n",
      "Requirement already satisfied: packaging>=21.0 in /home/akanksha21008/.venv/lib/python3.10/site-packages (from sphinx<6,>=4->sphinx_design<0.4.0,>=0.3.0->dowhy) (24.1)\n",
      "Requirement already satisfied: patsy>=0.5.2 in /home/akanksha21008/.venv/lib/python3.10/site-packages (from statsmodels<0.14.0,>=0.13.2->dowhy) (1.0.1)\n",
      "Requirement already satisfied: mpmath<1.4,>=1.1.0 in /home/akanksha21008/.venv/lib/python3.10/site-packages (from sympy<2.0.0,>=1.10.1->dowhy) (1.3.0)\n",
      "Requirement already satisfied: MarkupSafe>=2.0 in /home/akanksha21008/.venv/lib/python3.10/site-packages (from Jinja2>=3.0->sphinx<6,>=4->sphinx_design<0.4.0,>=0.3.0->dowhy) (2.1.5)\n",
      "Requirement already satisfied: six>=1.5 in /home/akanksha21008/.venv/lib/python3.10/site-packages (from python-dateutil>=2.8.1->pandas<2.0.0,>=1.4.3->dowhy) (1.16.0)\n",
      "Requirement already satisfied: charset-normalizer<4,>=2 in /home/akanksha21008/.venv/lib/python3.10/site-packages (from requests>=2.5.0->sphinx<6,>=4->sphinx_design<0.4.0,>=0.3.0->dowhy) (3.3.2)\n",
      "Requirement already satisfied: idna<4,>=2.5 in /home/akanksha21008/.venv/lib/python3.10/site-packages (from requests>=2.5.0->sphinx<6,>=4->sphinx_design<0.4.0,>=0.3.0->dowhy) (3.9)\n",
      "Requirement already satisfied: urllib3<3,>=1.21.1 in /home/akanksha21008/.venv/lib/python3.10/site-packages (from requests>=2.5.0->sphinx<6,>=4->sphinx_design<0.4.0,>=0.3.0->dowhy) (2.2.3)\n",
      "Requirement already satisfied: certifi>=2017.4.17 in /home/akanksha21008/.venv/lib/python3.10/site-packages (from requests>=2.5.0->sphinx<6,>=4->sphinx_design<0.4.0,>=0.3.0->dowhy) (2024.8.30)\n",
      "Requirement already satisfied: sparse in /home/akanksha21008/.venv/lib/python3.10/site-packages (from econml->dowhy) (0.15.5)\n",
      "Requirement already satisfied: shap<0.44.0,>=0.38.1 in /home/akanksha21008/.venv/lib/python3.10/site-packages (from econml->dowhy) (0.43.0)\n",
      "Requirement already satisfied: lightgbm in /home/akanksha21008/.venv/lib/python3.10/site-packages (from econml->dowhy) (4.5.0)\n",
      "Requirement already satisfied: slicer==0.0.7 in /home/akanksha21008/.venv/lib/python3.10/site-packages (from shap<0.44.0,>=0.38.1->econml->dowhy) (0.0.7)\n",
      "Requirement already satisfied: numba in /home/akanksha21008/.venv/lib/python3.10/site-packages (from shap<0.44.0,>=0.38.1->econml->dowhy) (0.60.0)\n",
      "Requirement already satisfied: cloudpickle in /home/akanksha21008/.venv/lib/python3.10/site-packages (from shap<0.44.0,>=0.38.1->econml->dowhy) (3.1.1)\n",
      "Requirement already satisfied: contourpy>=1.0.1 in /home/akanksha21008/.venv/lib/python3.10/site-packages (from matplotlib->causal-learn<0.2.0.0,>=0.1.3.0->dowhy) (1.3.1)\n",
      "Requirement already satisfied: cycler>=0.10 in /home/akanksha21008/.venv/lib/python3.10/site-packages (from matplotlib->causal-learn<0.2.0.0,>=0.1.3.0->dowhy) (0.12.1)\n",
      "Requirement already satisfied: fonttools>=4.22.0 in /home/akanksha21008/.venv/lib/python3.10/site-packages (from matplotlib->causal-learn<0.2.0.0,>=0.1.3.0->dowhy) (4.55.3)\n",
      "Requirement already satisfied: kiwisolver>=1.3.1 in /home/akanksha21008/.venv/lib/python3.10/site-packages (from matplotlib->causal-learn<0.2.0.0,>=0.1.3.0->dowhy) (1.4.8)\n",
      "Requirement already satisfied: pillow>=8 in /home/akanksha21008/.venv/lib/python3.10/site-packages (from matplotlib->causal-learn<0.2.0.0,>=0.1.3.0->dowhy) (10.4.0)\n",
      "Requirement already satisfied: pyparsing>=2.3.1 in /home/akanksha21008/.venv/lib/python3.10/site-packages (from matplotlib->causal-learn<0.2.0.0,>=0.1.3.0->dowhy) (3.2.1)\n",
      "Requirement already satisfied: llvmlite<0.44,>=0.43.0dev0 in /home/akanksha21008/.venv/lib/python3.10/site-packages (from numba->shap<0.44.0,>=0.38.1->econml->dowhy) (0.43.0)\n"
     ]
    }
   ],
   "source": [
    "!pip install dowhy"
   ]
  },
  {
   "cell_type": "code",
   "execution_count": 16,
   "metadata": {},
   "outputs": [
    {
     "name": "stdout",
     "output_type": "stream",
     "text": [
      "Requirement already satisfied: pydot in /home/akanksha21008/.venv/lib/python3.10/site-packages (3.0.4)\n",
      "Requirement already satisfied: graphviz in /home/akanksha21008/.venv/lib/python3.10/site-packages (0.20.3)\n",
      "Requirement already satisfied: pyparsing>=3.0.9 in /home/akanksha21008/.venv/lib/python3.10/site-packages (from pydot) (3.2.1)\n"
     ]
    }
   ],
   "source": [
    "!pip install pydot graphviz\n"
   ]
  },
  {
   "cell_type": "code",
   "execution_count": 7,
   "metadata": {},
   "outputs": [],
   "source": [
    "from causallearn.search.ConstraintBased.PC import pc\n",
    "from causallearn.utils.GraphUtils import GraphUtils\n",
    "from causallearn.utils.cit import fisherz\n",
    "import pandas as pd"
   ]
  },
  {
   "cell_type": "code",
   "execution_count": 30,
   "metadata": {},
   "outputs": [
    {
     "data": {
      "application/vnd.jupyter.widget-view+json": {
       "model_id": "9bed456c4fe64e069cfef4775a0273ec",
       "version_major": 2,
       "version_minor": 0
      },
      "text/plain": [
       "  0%|          | 0/14 [00:00<?, ?it/s]"
      ]
     },
     "metadata": {},
     "output_type": "display_data"
    }
   ],
   "source": [
    "# Load and clean the dataset\n",
    "df = pd.read_csv(\"training_dataset.csv\")\n",
    "df = df.dropna()\n",
    "df = df.select_dtypes(include=[\"float64\", \"int64\"])  # Use only numeric columns\n",
    "data = df.to_numpy()\n",
    "\n",
    "# Run PC algorithm\n",
    "cg = pc(data, independence_test_method=fisherz, alpha=0.08)\n",
    "\n",
    "# Optional: set variable names\n",
    "cg.G.names = df.columns.tolist()"
   ]
  },
  {
   "cell_type": "code",
   "execution_count": 31,
   "metadata": {},
   "outputs": [
    {
     "name": "stdout",
     "output_type": "stream",
     "text": [
      "X3 --> X1\n",
      "X7 --> X1\n",
      "X8 --> X1\n",
      "X10 --> X1\n",
      "X11 --> X1\n",
      "X2 --- X7\n",
      "X2 --- X14\n",
      "X5 --> X3\n",
      "X6 --> X3\n",
      "X4 --> X5\n",
      "X7 --> X5\n",
      "X5 --> X12\n",
      "X14 --> X5\n",
      "X7 --- X14\n",
      "X8 --> X11\n",
      "X9 --> X11\n",
      "X9 --> X13\n",
      "X10 --> X13\n",
      "X14 --> X13\n"
     ]
    }
   ],
   "source": [
    "for edge in cg.G.get_graph_edges():\n",
    "    print(edge)"
   ]
  },
  {
   "cell_type": "code",
   "execution_count": 40,
   "metadata": {},
   "outputs": [
    {
     "data": {
      "application/vnd.jupyter.widget-view+json": {
       "model_id": "35d783a74f8d4430ab5e0404013c8832",
       "version_major": 2,
       "version_minor": 0
      },
      "text/plain": [
       "  0%|          | 0/14 [00:00<?, ?it/s]"
      ]
     },
     "metadata": {},
     "output_type": "display_data"
    },
    {
     "name": "stdout",
     "output_type": "stream",
     "text": [
      "Causal Edges:\n",
      "corner_3_x --> corner_0_x\n",
      "corner_3_y --> corner_0_x\n",
      "angle_from_180 --> corner_0_x\n",
      "corner_0_y --> corner_3_x\n",
      "corner_2_x --> corner_1_x\n",
      "corner_2_y --> corner_1_x\n",
      "corner_1_y --> corner_2_x\n",
      "corner_2_x --> vy\n",
      "omega_z --> corner_2_x\n",
      "corner_2_y --> vx\n",
      "corner_3_x --> omega_z\n",
      "corner_3_y --> vx\n",
      "area --> vx\n",
      "area --> vz\n",
      "angle_from_180 --> vz\n",
      "omega_z --> vz\n"
     ]
    }
   ],
   "source": [
    "import pandas as pd\n",
    "from causallearn.search.ConstraintBased.PC import pc\n",
    "from causallearn.utils.cit import fisherz\n",
    "\n",
    "# Load and clean dataset\n",
    "df = pd.read_csv(\"training_dataset.csv\")\n",
    "df = df.dropna()\n",
    "df = df.select_dtypes(include=[\"float64\", \"int64\"])\n",
    "data = df.to_numpy()\n",
    "column_names = df.columns.tolist()\n",
    "\n",
    "# Run PC algorithm\n",
    "cg = pc(data, independence_test_method=fisherz, alpha=0.05)\n",
    "\n",
    "# Assign column names to the graph\n",
    "cg.G.names = column_names\n",
    "\n",
    "# Print causal edges with real variable names\n",
    "print(\"Causal Edges:\")\n",
    "for edge in cg.G.get_graph_edges():\n",
    "    node1_name = edge.node1.get_name()  # e.g., \"X3\"\n",
    "    node2_name = edge.node2.get_name()  # e.g., \"X7\"\n",
    "\n",
    "    # Convert names like \"X3\" → index 2 (zero-based)\n",
    "    i = int(node1_name[1:]) - 1\n",
    "    j = int(node2_name[1:]) - 1\n",
    "\n",
    "    ep1 = edge.endpoint1\n",
    "    ep2 = edge.endpoint2\n",
    "\n",
    "    src = column_names[i]\n",
    "    tgt = column_names[j]\n",
    "\n",
    "    print(f\"{src} --> {tgt}\")\n"
   ]
  }
 ],
 "metadata": {
  "kernelspec": {
   "display_name": ".venv",
   "language": "python",
   "name": "python3"
  },
  "language_info": {
   "codemirror_mode": {
    "name": "ipython",
    "version": 3
   },
   "file_extension": ".py",
   "mimetype": "text/x-python",
   "name": "python",
   "nbconvert_exporter": "python",
   "pygments_lexer": "ipython3",
   "version": "3.10.12"
  }
 },
 "nbformat": 4,
 "nbformat_minor": 2
}
