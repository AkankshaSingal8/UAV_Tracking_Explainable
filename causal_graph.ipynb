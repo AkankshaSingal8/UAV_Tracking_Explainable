{
 "cells": [
  {
   "cell_type": "code",
   "execution_count": 1,
   "metadata": {},
   "outputs": [
    {
     "name": "stdout",
     "output_type": "stream",
     "text": [
      "Requirement already satisfied: causal-learn in /opt/conda/lib/python3.8/site-packages (0.1.4.1)\n",
      "Requirement already satisfied: scikit-learn in /opt/conda/lib/python3.8/site-packages (from causal-learn) (1.0.2)\n",
      "Requirement already satisfied: pydot in /opt/conda/lib/python3.8/site-packages (from causal-learn) (4.0.0)\n",
      "Requirement already satisfied: pandas in /opt/conda/lib/python3.8/site-packages (from causal-learn) (1.4.1)\n",
      "Requirement already satisfied: graphviz in /opt/conda/lib/python3.8/site-packages (from causal-learn) (0.20.3)\n",
      "Requirement already satisfied: statsmodels in /opt/conda/lib/python3.8/site-packages (from causal-learn) (0.14.1)\n",
      "Requirement already satisfied: tqdm in /opt/conda/lib/python3.8/site-packages (from causal-learn) (4.67.1)\n",
      "Requirement already satisfied: momentchi2 in /opt/conda/lib/python3.8/site-packages (from causal-learn) (0.1.8)\n",
      "Requirement already satisfied: scipy in /opt/conda/lib/python3.8/site-packages (from causal-learn) (1.7.3)\n",
      "Requirement already satisfied: numpy in /opt/conda/lib/python3.8/site-packages (from causal-learn) (1.19.5)\n",
      "Requirement already satisfied: matplotlib in /opt/conda/lib/python3.8/site-packages (from causal-learn) (3.5.1)\n",
      "Requirement already satisfied: networkx in /opt/conda/lib/python3.8/site-packages (from causal-learn) (3.1)\n",
      "Requirement already satisfied: pillow>=6.2.0 in /opt/conda/lib/python3.8/site-packages (from matplotlib->causal-learn) (10.4.0)\n",
      "Requirement already satisfied: cycler>=0.10 in /opt/conda/lib/python3.8/site-packages (from matplotlib->causal-learn) (0.11.0)\n",
      "Requirement already satisfied: kiwisolver>=1.0.1 in /opt/conda/lib/python3.8/site-packages (from matplotlib->causal-learn) (1.3.2)\n",
      "Requirement already satisfied: packaging>=20.0 in /opt/conda/lib/python3.8/site-packages (from matplotlib->causal-learn) (21.3)\n",
      "Requirement already satisfied: pyparsing>=2.2.1 in /opt/conda/lib/python3.8/site-packages (from matplotlib->causal-learn) (3.1.4)\n",
      "Requirement already satisfied: fonttools>=4.22.0 in /opt/conda/lib/python3.8/site-packages (from matplotlib->causal-learn) (4.28.5)\n",
      "Requirement already satisfied: python-dateutil>=2.7 in /opt/conda/lib/python3.8/site-packages (from matplotlib->causal-learn) (2.8.2)\n",
      "Requirement already satisfied: pytz>=2020.1 in /opt/conda/lib/python3.8/site-packages (from pandas->causal-learn) (2021.3)\n",
      "Requirement already satisfied: threadpoolctl>=2.0.0 in /opt/conda/lib/python3.8/site-packages (from scikit-learn->causal-learn) (2.2.0)\n",
      "Requirement already satisfied: joblib>=0.11 in /opt/conda/lib/python3.8/site-packages (from scikit-learn->causal-learn) (1.1.0)\n",
      "Requirement already satisfied: patsy>=0.5.4 in /opt/conda/lib/python3.8/site-packages (from statsmodels->causal-learn) (1.0.1)\n",
      "Requirement already satisfied: six>=1.5 in /opt/conda/lib/python3.8/site-packages (from python-dateutil>=2.7->matplotlib->causal-learn) (1.15.0)\n",
      "\u001b[33mWARNING: Running pip as the 'root' user can result in broken permissions and conflicting behaviour with the system package manager. It is recommended to use a virtual environment instead: https://pip.pypa.io/warnings/venv\u001b[0m\u001b[33m\n",
      "\u001b[0m\u001b[33mWARNING: You are using pip version 22.0.2; however, version 25.0.1 is available.\n",
      "You should consider upgrading via the '/opt/conda/bin/python -m pip install --upgrade pip' command.\u001b[0m\u001b[33m\n",
      "\u001b[0m"
     ]
    }
   ],
   "source": [
    "!pip install causal-learn"
   ]
  },
  {
   "cell_type": "code",
   "execution_count": 2,
   "metadata": {},
   "outputs": [
    {
     "name": "stdout",
     "output_type": "stream",
     "text": [
      "Requirement already satisfied: dowhy in /opt/conda/lib/python3.8/site-packages (0.12)\n",
      "Requirement already satisfied: statsmodels>=0.13.5 in /opt/conda/lib/python3.8/site-packages (from dowhy) (0.14.1)\n",
      "Requirement already satisfied: pandas<2.0 in /opt/conda/lib/python3.8/site-packages (from dowhy) (1.4.1)\n",
      "Requirement already satisfied: sympy>=1.10.1 in /opt/conda/lib/python3.8/site-packages (from dowhy) (1.13.2)\n",
      "Requirement already satisfied: scikit-learn>1.0 in /opt/conda/lib/python3.8/site-packages (from dowhy) (1.0.2)\n",
      "Requirement already satisfied: cvxpy<1.5.0 in /opt/conda/lib/python3.8/site-packages (from dowhy) (1.4.4)\n",
      "Requirement already satisfied: causal-learn>=0.1.3.0 in /opt/conda/lib/python3.8/site-packages (from dowhy) (0.1.4.1)\n",
      "Requirement already satisfied: numpy<2.0 in /opt/conda/lib/python3.8/site-packages (from dowhy) (1.19.5)\n",
      "Requirement already satisfied: tqdm>=4.64.0 in /opt/conda/lib/python3.8/site-packages (from dowhy) (4.67.1)\n",
      "Requirement already satisfied: networkx>=2.8.5 in /opt/conda/lib/python3.8/site-packages (from dowhy) (3.1)\n",
      "Requirement already satisfied: joblib>=1.1.0 in /opt/conda/lib/python3.8/site-packages (from dowhy) (1.1.0)\n",
      "Requirement already satisfied: scipy>=1.7 in /opt/conda/lib/python3.8/site-packages (from dowhy) (1.7.3)\n",
      "Requirement already satisfied: cython<3.0 in /opt/conda/lib/python3.8/site-packages (from dowhy) (0.29.37)\n",
      "Requirement already satisfied: numba<0.59 in /opt/conda/lib/python3.8/site-packages (from dowhy) (0.55.1)\n",
      "Requirement already satisfied: graphviz in /opt/conda/lib/python3.8/site-packages (from causal-learn>=0.1.3.0->dowhy) (0.20.3)\n",
      "Requirement already satisfied: momentchi2 in /opt/conda/lib/python3.8/site-packages (from causal-learn>=0.1.3.0->dowhy) (0.1.8)\n",
      "Requirement already satisfied: matplotlib in /opt/conda/lib/python3.8/site-packages (from causal-learn>=0.1.3.0->dowhy) (3.5.1)\n",
      "Requirement already satisfied: pydot in /opt/conda/lib/python3.8/site-packages (from causal-learn>=0.1.3.0->dowhy) (4.0.0)\n",
      "Requirement already satisfied: pybind11 in /opt/conda/lib/python3.8/site-packages (from cvxpy<1.5.0->dowhy) (2.13.6)\n",
      "Requirement already satisfied: osqp>=0.6.2 in /opt/conda/lib/python3.8/site-packages (from cvxpy<1.5.0->dowhy) (1.0.3)\n",
      "Requirement already satisfied: clarabel>=0.5.0 in /opt/conda/lib/python3.8/site-packages (from cvxpy<1.5.0->dowhy) (0.9.0)\n",
      "Requirement already satisfied: ecos>=2 in /opt/conda/lib/python3.8/site-packages (from cvxpy<1.5.0->dowhy) (2.0.14)\n",
      "Requirement already satisfied: scs>=3.0 in /opt/conda/lib/python3.8/site-packages (from cvxpy<1.5.0->dowhy) (3.2.7.post2)\n",
      "Requirement already satisfied: setuptools in /opt/conda/lib/python3.8/site-packages (from numba<0.59->dowhy) (58.0.4)\n",
      "Requirement already satisfied: llvmlite<0.39,>=0.38.0rc1 in /opt/conda/lib/python3.8/site-packages (from numba<0.59->dowhy) (0.38.0)\n",
      "Requirement already satisfied: python-dateutil>=2.8.1 in /opt/conda/lib/python3.8/site-packages (from pandas<2.0->dowhy) (2.8.2)\n",
      "Requirement already satisfied: pytz>=2020.1 in /opt/conda/lib/python3.8/site-packages (from pandas<2.0->dowhy) (2021.3)\n",
      "Requirement already satisfied: threadpoolctl>=2.0.0 in /opt/conda/lib/python3.8/site-packages (from scikit-learn>1.0->dowhy) (2.2.0)\n",
      "Requirement already satisfied: packaging>=21.3 in /opt/conda/lib/python3.8/site-packages (from statsmodels>=0.13.5->dowhy) (21.3)\n",
      "Requirement already satisfied: patsy>=0.5.4 in /opt/conda/lib/python3.8/site-packages (from statsmodels>=0.13.5->dowhy) (1.0.1)\n",
      "Requirement already satisfied: mpmath<1.4,>=1.1.0 in /opt/conda/lib/python3.8/site-packages (from sympy>=1.10.1->dowhy) (1.3.0)\n",
      "Requirement already satisfied: jinja2 in /opt/conda/lib/python3.8/site-packages (from osqp>=0.6.2->cvxpy<1.5.0->dowhy) (3.1.5)\n",
      "Requirement already satisfied: pyparsing!=3.0.5,>=2.0.2 in /opt/conda/lib/python3.8/site-packages (from packaging>=21.3->statsmodels>=0.13.5->dowhy) (3.1.4)\n",
      "Requirement already satisfied: six>=1.5 in /opt/conda/lib/python3.8/site-packages (from python-dateutil>=2.8.1->pandas<2.0->dowhy) (1.15.0)\n",
      "Requirement already satisfied: cycler>=0.10 in /opt/conda/lib/python3.8/site-packages (from matplotlib->causal-learn>=0.1.3.0->dowhy) (0.11.0)\n",
      "Requirement already satisfied: pillow>=6.2.0 in /opt/conda/lib/python3.8/site-packages (from matplotlib->causal-learn>=0.1.3.0->dowhy) (10.4.0)\n",
      "Requirement already satisfied: fonttools>=4.22.0 in /opt/conda/lib/python3.8/site-packages (from matplotlib->causal-learn>=0.1.3.0->dowhy) (4.28.5)\n",
      "Requirement already satisfied: kiwisolver>=1.0.1 in /opt/conda/lib/python3.8/site-packages (from matplotlib->causal-learn>=0.1.3.0->dowhy) (1.3.2)\n",
      "Requirement already satisfied: MarkupSafe>=2.0 in /opt/conda/lib/python3.8/site-packages (from jinja2->osqp>=0.6.2->cvxpy<1.5.0->dowhy) (2.1.5)\n",
      "\u001b[33mWARNING: Running pip as the 'root' user can result in broken permissions and conflicting behaviour with the system package manager. It is recommended to use a virtual environment instead: https://pip.pypa.io/warnings/venv\u001b[0m\u001b[33m\n",
      "\u001b[0m\u001b[33mWARNING: You are using pip version 22.0.2; however, version 25.0.1 is available.\n",
      "You should consider upgrading via the '/opt/conda/bin/python -m pip install --upgrade pip' command.\u001b[0m\u001b[33m\n",
      "\u001b[0m"
     ]
    }
   ],
   "source": [
    "!pip install dowhy"
   ]
  },
  {
   "cell_type": "code",
   "execution_count": 3,
   "metadata": {},
   "outputs": [
    {
     "name": "stdout",
     "output_type": "stream",
     "text": [
      "Requirement already satisfied: pydot in /opt/conda/lib/python3.8/site-packages (4.0.0)\n",
      "Requirement already satisfied: graphviz in /opt/conda/lib/python3.8/site-packages (0.20.3)\n",
      "Requirement already satisfied: pyparsing>=3.0.9 in /opt/conda/lib/python3.8/site-packages (from pydot) (3.1.4)\n",
      "\u001b[33mWARNING: Running pip as the 'root' user can result in broken permissions and conflicting behaviour with the system package manager. It is recommended to use a virtual environment instead: https://pip.pypa.io/warnings/venv\u001b[0m\u001b[33m\n",
      "\u001b[0m\u001b[33mWARNING: You are using pip version 22.0.2; however, version 25.0.1 is available.\n",
      "You should consider upgrading via the '/opt/conda/bin/python -m pip install --upgrade pip' command.\u001b[0m\u001b[33m\n",
      "\u001b[0m"
     ]
    }
   ],
   "source": [
    "!pip install pydot graphviz\n"
   ]
  },
  {
   "cell_type": "code",
   "execution_count": 4,
   "metadata": {},
   "outputs": [],
   "source": [
    "from causallearn.search.ConstraintBased.PC import pc\n",
    "from causallearn.utils.GraphUtils import GraphUtils\n",
    "from causallearn.utils.cit import fisherz\n",
    "import pandas as pd"
   ]
  },
  {
   "cell_type": "code",
   "execution_count": 30,
   "metadata": {},
   "outputs": [
    {
     "data": {
      "application/vnd.jupyter.widget-view+json": {
       "model_id": "9bed456c4fe64e069cfef4775a0273ec",
       "version_major": 2,
       "version_minor": 0
      },
      "text/plain": [
       "  0%|          | 0/14 [00:00<?, ?it/s]"
      ]
     },
     "metadata": {},
     "output_type": "display_data"
    }
   ],
   "source": [
    "# Load and clean the dataset\n",
    "df = pd.read_csv(\"training_dataset.csv\")\n",
    "df = df.dropna()\n",
    "df = df.select_dtypes(include=[\"float64\", \"int64\"])  # Use only numeric columns\n",
    "data = df.to_numpy()\n",
    "\n",
    "# Run PC algorithm\n",
    "cg = pc(data, independence_test_method=fisherz, alpha=0.08)\n",
    "\n",
    "# Optional: set variable names\n",
    "cg.G.names = df.columns.tolist()"
   ]
  },
  {
   "cell_type": "code",
   "execution_count": 31,
   "metadata": {},
   "outputs": [
    {
     "name": "stdout",
     "output_type": "stream",
     "text": [
      "X3 --> X1\n",
      "X7 --> X1\n",
      "X8 --> X1\n",
      "X10 --> X1\n",
      "X11 --> X1\n",
      "X2 --- X7\n",
      "X2 --- X14\n",
      "X5 --> X3\n",
      "X6 --> X3\n",
      "X4 --> X5\n",
      "X7 --> X5\n",
      "X5 --> X12\n",
      "X14 --> X5\n",
      "X7 --- X14\n",
      "X8 --> X11\n",
      "X9 --> X11\n",
      "X9 --> X13\n",
      "X10 --> X13\n",
      "X14 --> X13\n"
     ]
    }
   ],
   "source": [
    "for edge in cg.G.get_graph_edges():\n",
    "    print(edge)"
   ]
  },
  {
   "cell_type": "code",
   "execution_count": 40,
   "metadata": {},
   "outputs": [
    {
     "data": {
      "application/vnd.jupyter.widget-view+json": {
       "model_id": "35d783a74f8d4430ab5e0404013c8832",
       "version_major": 2,
       "version_minor": 0
      },
      "text/plain": [
       "  0%|          | 0/14 [00:00<?, ?it/s]"
      ]
     },
     "metadata": {},
     "output_type": "display_data"
    },
    {
     "name": "stdout",
     "output_type": "stream",
     "text": [
      "Causal Edges:\n",
      "corner_3_x --> corner_0_x\n",
      "corner_3_y --> corner_0_x\n",
      "angle_from_180 --> corner_0_x\n",
      "corner_0_y --> corner_3_x\n",
      "corner_2_x --> corner_1_x\n",
      "corner_2_y --> corner_1_x\n",
      "corner_1_y --> corner_2_x\n",
      "corner_2_x --> vy\n",
      "omega_z --> corner_2_x\n",
      "corner_2_y --> vx\n",
      "corner_3_x --> omega_z\n",
      "corner_3_y --> vx\n",
      "area --> vx\n",
      "area --> vz\n",
      "angle_from_180 --> vz\n",
      "omega_z --> vz\n"
     ]
    }
   ],
   "source": [
    "import pandas as pd\n",
    "from causallearn.search.ConstraintBased.PC import pc\n",
    "from causallearn.utils.cit import fisherz\n",
    "\n",
    "# Load and clean dataset\n",
    "df = pd.read_csv(\"training_dataset.csv\")\n",
    "df = df.dropna()\n",
    "df = df.select_dtypes(include=[\"float64\", \"int64\"])\n",
    "data = df.to_numpy()\n",
    "column_names = df.columns.tolist()\n",
    "\n",
    "# Run PC algorithm\n",
    "cg = pc(data, independence_test_method=fisherz, alpha=0.05)\n",
    "\n",
    "# Assign column names to the graph\n",
    "cg.G.names = column_names\n",
    "\n",
    "# Print causal edges with real variable names\n",
    "print(\"Causal Edges:\") ########GROUND TRUTH\n",
    "for edge in cg.G.get_graph_edges():\n",
    "    node1_name = edge.node1.get_name()  # e.g., \"X3\"\n",
    "    node2_name = edge.node2.get_name()  # e.g., \"X7\"\n",
    "\n",
    "    # Convert names like \"X3\" → index 2 (zero-based)\n",
    "    i = int(node1_name[1:]) - 1\n",
    "    j = int(node2_name[1:]) - 1\n",
    "\n",
    "    ep1 = edge.endpoint1\n",
    "    ep2 = edge.endpoint2\n",
    "\n",
    "    src = column_names[i]\n",
    "    tgt = column_names[j]\n",
    "\n",
    "    print(f\"{src} --> {tgt}\")\n"
   ]
  },
  {
   "cell_type": "code",
   "execution_count": 14,
   "metadata": {},
   "outputs": [
    {
     "data": {
      "image/png": "[encoded data removed]",
      "text/plain": [
       "<Figure size 1008x720 with 1 Axes>"
      ]
     },
     "metadata": {},
     "output_type": "display_data"
    }
   ],
   "source": [
    "import matplotlib.pyplot as plt\n",
    "import networkx as nx\n",
    "\n",
    "# Define edges mapping to vx, vy, vz, or omega_z\n",
    "edges = [\n",
    "    (\"corner_2_y\", \"vx\"),\n",
    "    (\"corner_3_y\", \"vx\"),\n",
    "    (\"area\", \"vx\"),\n",
    "    (\"corner_2_x\", \"vy\"),\n",
    "    (\"area\", \"vz\"),\n",
    "    (\"angle_from_180\", \"vz\"),\n",
    "    (\"omega_z\", \"vz\"),\n",
    "    (\"corner_3_x\", \"omega_z\")\n",
    "]\n",
    "\n",
    "# Create directed graph\n",
    "G2 = nx.DiGraph()\n",
    "G2.add_edges_from(edges)\n",
    "\n",
    "# Positioning using Kamada-Kawai layout for better spacing\n",
    "pos2 = nx.kamada_kawai_layout(G2)\n",
    "\n",
    "# Draw graph\n",
    "plt.figure(figsize=(14, 10))\n",
    "nx.draw_networkx_nodes(G2, pos2, node_size=2000, node_color='skyblue')\n",
    "nx.draw_networkx_edges(\n",
    "    G2, pos2,\n",
    "    arrowstyle='->',\n",
    "    arrows=True,\n",
    "    arrowsize=50,\n",
    "    edge_color='black',\n",
    "    width=2,\n",
    "    connectionstyle='arc3,rad=0.1'\n",
    ")\n",
    "nx.draw_networkx_labels(G2, pos2, font_size=10, font_weight='bold')\n",
    "\n",
    "plt.title(\"Ground Truth Causal Graph to vx, vy, vz, omega_z\", fontsize=14)\n",
    "plt.axis('off')\n",
    "plt.tight_layout()\n",
    "plt.show()\n"
   ]
  },
  {
   "cell_type": "code",
   "execution_count": 12,
   "metadata": {},
   "outputs": [
    {
     "name": "stdout",
     "output_type": "stream",
     "text": [
      "['corner_0_x', 'corner_0_y', 'corner_1_x', 'corner_1_y', 'corner_2_x', 'corner_2_y', 'corner_3_x', 'corner_3_y', 'area', 'angle_from_180', 'vx', 'vy', 'vz', 'omega_z']\n"
     ]
    },
    {
     "data": {
      "application/vnd.jupyter.widget-view+json": {
       "model_id": "f28ad310539f4a70959575eedd27dd9a",
       "version_major": 2,
       "version_minor": 0
      },
      "text/plain": [
       "  0%|          | 0/14 [00:00<?, ?it/s]"
      ]
     },
     "metadata": {},
     "output_type": "display_data"
    },
    {
     "name": "stdout",
     "output_type": "stream",
     "text": [
      "Causal Edges:\n",
      "corner_3_x --> corner_0_x\n",
      "corner_3_y --> corner_0_x\n",
      "angle_from_180 --> corner_0_x\n",
      "corner_2_y --> corner_0_y\n",
      "corner_3_x --> corner_0_y\n",
      "corner_3_y --> corner_0_y\n",
      "area --> corner_0_y\n",
      "angle_from_180 --> corner_0_y\n",
      "vy --> corner_0_y\n",
      "corner_2_x --> corner_1_x\n",
      "corner_2_y --> corner_1_x\n",
      "corner_2_x --> corner_1_y\n",
      "corner_2_y --> corner_1_y\n",
      "corner_3_x --> corner_1_y\n",
      "area --> corner_1_y\n",
      "area --> vz\n",
      "area --> omega_z\n",
      "angle_from_180 --> vz\n",
      "vx --> vz\n",
      "vy --> omega_z\n",
      "omega_z --> vz\n"
     ]
    }
   ],
   "source": [
    "# ---- Step 1: Load CSVs ----\n",
    "df = pd.read_csv(\"training_dataset.csv\")\n",
    "\n",
    "required_columns = [\n",
    "    \"corner_0_x\", \"corner_0_y\",\n",
    "    \"corner_1_x\", \"corner_1_y\",\n",
    "    \"corner_2_x\", \"corner_2_y\",\n",
    "    \"corner_3_x\", \"corner_3_y\",\n",
    "    \"area\", \"angle_from_180\"\n",
    "]\n",
    "\n",
    "# Filter DataFrame to keep only these columns and numeric types\n",
    "df = df[required_columns]\n",
    "\n",
    "feature_df = df.select_dtypes(include=[\"float64\", \"int64\"])\n",
    "column_names = df.columns.tolist()\n",
    "\n",
    "output_df = pd.read_csv(\"prediction_output.csv\") \n",
    "# print(latent_df.shape[1])\n",
    "\n",
    "# ---- Step 2: Concatenate ----\n",
    "full_df = pd.concat([feature_df, output_df], axis=1)\n",
    "full_df = full_df.dropna()\n",
    "column_names = full_df.columns.tolist()\n",
    "\n",
    "print(column_names)\n",
    "# # ---- Step 3: Run PC Algorithm ----\n",
    "data = full_df.to_numpy()\n",
    "cg = pc(data, independence_test_method=fisherz, alpha=0.05)\n",
    "\n",
    "cg.G.names = column_names\n",
    "\n",
    "# Print causal edges with real variable names\n",
    "print(\"Causal Edges:\") ########GROUND TRUTH\n",
    "for edge in cg.G.get_graph_edges():\n",
    "    node1_name = edge.node1.get_name()  # e.g., \"X3\"\n",
    "    node2_name = edge.node2.get_name()  # e.g., \"X7\"\n",
    "\n",
    "    # Convert names like \"X3\" → index 2 (zero-based)\n",
    "    i = int(node1_name[1:]) - 1\n",
    "    j = int(node2_name[1:]) - 1\n",
    "\n",
    "    ep1 = edge.endpoint1\n",
    "    ep2 = edge.endpoint2\n",
    "\n",
    "    src = column_names[i]\n",
    "    tgt = column_names[j]\n",
    "\n",
    "    print(f\"{src} --> {tgt}\")"
   ]
  },
  {
   "cell_type": "code",
   "execution_count": 15,
   "metadata": {},
   "outputs": [
    {
     "data": {
      "image/png": "[encoded data removed]",
      "text/plain": [
       "<Figure size 864x576 with 1 Axes>"
      ]
     },
     "metadata": {},
     "output_type": "display_data"
    }
   ],
   "source": [
    "# Define edges that map to vz or omega_z\n",
    "edges = [\n",
    "    (\"area\", \"vz\"),\n",
    "    (\"angle_from_180\", \"vz\"),\n",
    "    (\"vx\", \"vz\"),\n",
    "    (\"omega_z\", \"vz\"),\n",
    "    (\"area\", \"omega_z\"),\n",
    "    (\"vy\", \"omega_z\")\n",
    "]\n",
    "\n",
    "# Create directed graph\n",
    "G3 = nx.DiGraph()\n",
    "G3.add_edges_from(edges)\n",
    "\n",
    "# Position using Kamada-Kawai layout\n",
    "pos3 = nx.kamada_kawai_layout(G3)\n",
    "\n",
    "# Draw the graph\n",
    "plt.figure(figsize=(12, 8))\n",
    "nx.draw_networkx_nodes(G3, pos3, node_size=2000, node_color='skyblue')\n",
    "nx.draw_networkx_edges(\n",
    "    G3, pos3,\n",
    "    arrowstyle='->',\n",
    "    arrows=True,\n",
    "    arrowsize=50,\n",
    "    edge_color='black',\n",
    "    width=2,\n",
    "    connectionstyle='arc3,rad=0.1'\n",
    ")\n",
    "nx.draw_networkx_labels(G3, pos3, font_size=10, font_weight='bold')\n",
    "\n",
    "plt.title(\"Predicted Model Causal Graph\", fontsize=14)\n",
    "plt.axis('off')\n",
    "plt.tight_layout()\n",
    "plt.show()\n"
   ]
  },
  {
   "cell_type": "code",
   "execution_count": 17,
   "metadata": {},
   "outputs": [
    {
     "name": "stdout",
     "output_type": "stream",
     "text": [
      "Precision : 0.429\n",
      " Recall : 0.333\n",
      "\n"
     ]
    }
   ],
   "source": [
    "target_vars = {\"vx\", \"vy\", \"vz\", \"omega_z\"}\n",
    "\n",
    "# Define full ground truth edges\n",
    "edges_gt_all = {\n",
    "    (\"corner_3_x\", \"corner_0_x\"),\n",
    "    (\"corner_3_y\", \"corner_0_x\"),\n",
    "    (\"angle_from_180\", \"corner_0_x\"),\n",
    "    (\"corner_0_y\", \"corner_3_x\"),\n",
    "    (\"corner_2_x\", \"corner_1_x\"),\n",
    "    (\"corner_2_y\", \"corner_1_x\"),\n",
    "    (\"corner_1_y\", \"corner_2_x\"),\n",
    "    (\"corner_2_x\", \"vy\"),\n",
    "    (\"omega_z\", \"corner_2_x\"),\n",
    "    (\"corner_2_y\", \"vx\"),\n",
    "    (\"corner_3_x\", \"omega_z\"),\n",
    "    (\"corner_3_y\", \"vx\"),\n",
    "    (\"area\", \"vx\"),\n",
    "    (\"area\", \"vz\"),\n",
    "    (\"angle_from_180\", \"vz\"),\n",
    "    (\"omega_z\", \"vz\")\n",
    "}\n",
    "\n",
    "# Define full predicted edges\n",
    "edges_pred_all = {\n",
    "    (\"corner_3_x\", \"corner_0_x\"),\n",
    "    (\"corner_3_y\", \"corner_0_x\"),\n",
    "    (\"angle_from_180\", \"corner_0_x\"),\n",
    "    (\"corner_2_y\", \"corner_0_y\"),\n",
    "    (\"corner_3_x\", \"corner_0_y\"),\n",
    "    (\"corner_3_y\", \"corner_0_y\"),\n",
    "    (\"area\", \"corner_0_y\"),\n",
    "    (\"angle_from_180\", \"corner_0_y\"),\n",
    "    (\"vy\", \"corner_0_y\"),\n",
    "    (\"corner_2_x\", \"corner_1_x\"),\n",
    "    (\"corner_2_y\", \"corner_1_x\"),\n",
    "    (\"corner_2_x\", \"corner_1_y\"),\n",
    "    (\"corner_2_y\", \"corner_1_y\"),\n",
    "    (\"corner_3_x\", \"corner_1_y\"),\n",
    "    (\"area\", \"corner_1_y\"),\n",
    "    (\"area\", \"vz\"),\n",
    "    (\"area\", \"omega_z\"),\n",
    "    (\"angle_from_180\", \"vz\"),\n",
    "    (\"vx\", \"vz\"),\n",
    "    (\"vy\", \"omega_z\"),\n",
    "    (\"omega_z\", \"vz\")\n",
    "}\n",
    "\n",
    "# Filter only those edges where the target is involved (either as source or destination)\n",
    "def filter_target_edges(edges, targets):\n",
    "    return {e for e in edges if e[0] in targets or e[1] in targets}\n",
    "\n",
    "edges_gt = filter_target_edges(edges_gt_all, target_vars)\n",
    "edges_pred = filter_target_edges(edges_pred_all, target_vars)\n",
    "\n",
    "# Compute intersections and differences\n",
    "common_edges = edges_gt & edges_pred\n",
    "missed_edges = edges_gt - edges_pred\n",
    "spurious_edges = edges_pred - edges_gt\n",
    "\n",
    "# Compute precision and recall\n",
    "precision = len(common_edges) / len(edges_pred) if edges_pred else 0\n",
    "recall = len(common_edges) / len(edges_gt) if edges_gt else 0\n",
    "\n",
    "# Print results\n",
    "print(f\"Precision : {precision:.3f}\")\n",
    "print(f\" Recall : {recall:.3f}\\n\")\n"
   ]
  }
 ],
 "metadata": {
  "kernelspec": {
   "display_name": ".venv",
   "language": "python",
   "name": "python3"
  },
  "language_info": {
   "codemirror_mode": {
    "name": "ipython",
    "version": 3
   },
   "file_extension": ".py",
   "mimetype": "text/x-python",
   "name": "python",
   "nbconvert_exporter": "python",
   "pygments_lexer": "ipython3",
   "version": "3.8.12"
  }
 },
 "nbformat": 4,
 "nbformat_minor": 2
}
