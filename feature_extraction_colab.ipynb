{
  "nbformat": 4,
  "nbformat_minor": 0,
  "metadata": {
    "colab": {
      "provenance": []
    },
    "kernelspec": {
      "name": "python3",
      "display_name": "Python 3"
    },
    "language_info": {
      "name": "python"
    }
  },
  "cells": [
    {
      "cell_type": "code",
      "execution_count": 1,
      "metadata": {
        "colab": {
          "base_uri": "https://localhost:8080/"
        },
        "id": "uDpWGklG3U2v",
        "outputId": "0495aa2f-b0f6-48c0-818f-b2f3604bc88b"
      },
      "outputs": [
        {
          "output_type": "stream",
          "name": "stdout",
          "text": [
            "Collecting apriltag\n",
            "  Downloading apriltag-0.0.16.tar.gz (201 kB)\n",
            "\u001b[?25l     \u001b[90m━━━━━━━━━━━━━━━━━━━━━━━━━━━━━━━━━━━━━━━━\u001b[0m \u001b[32m0.0/201.2 kB\u001b[0m \u001b[31m?\u001b[0m eta \u001b[36m-:--:--\u001b[0m\r\u001b[2K     \u001b[91m━━━━━━━━━━━━━━\u001b[0m\u001b[90m╺\u001b[0m\u001b[90m━━━━━━━━━━━━━━━━━━━━━━━━━\u001b[0m \u001b[32m71.7/201.2 kB\u001b[0m \u001b[31m2.4 MB/s\u001b[0m eta \u001b[36m0:00:01\u001b[0m\r\u001b[2K     \u001b[91m━━━━━━━━━━━━━━━━━━━━━━━━━━━━━━━━━━━━━\u001b[0m\u001b[91m╸\u001b[0m\u001b[90m━\u001b[0m \u001b[32m194.6/201.2 kB\u001b[0m \u001b[31m3.4 MB/s\u001b[0m eta \u001b[36m0:00:01\u001b[0m\r\u001b[2K     \u001b[90m━━━━━━━━━━━━━━━━━━━━━━━━━━━━━━━━━━━━━━━\u001b[0m \u001b[32m201.2/201.2 kB\u001b[0m \u001b[31m2.6 MB/s\u001b[0m eta \u001b[36m0:00:00\u001b[0m\n",
            "\u001b[?25h  Preparing metadata (setup.py) ... \u001b[?25l\u001b[?25hdone\n",
            "Building wheels for collected packages: apriltag\n",
            "  Building wheel for apriltag (setup.py) ... \u001b[?25l\u001b[?25hdone\n",
            "  Created wheel for apriltag: filename=apriltag-0.0.16-cp311-cp311-linux_x86_64.whl size=506883 sha256=6921428b51098900efaedb3509942664854e5b348715434429376c1bac5abc8a\n",
            "  Stored in directory: /root/.cache/pip/wheels/6a/23/85/49f494a7ae73b604fccf258f108a96a7eb342177ca5e5073f5\n",
            "Successfully built apriltag\n",
            "Installing collected packages: apriltag\n",
            "Successfully installed apriltag-0.0.16\n"
          ]
        }
      ],
      "source": [
        "!pip install apriltag"
      ]
    },
    {
      "cell_type": "code",
      "source": [
        "!git clone https://github.com/AkankshaSingal8/UAV_Tracking_Explainable.git"
      ],
      "metadata": {
        "colab": {
          "base_uri": "https://localhost:8080/"
        },
        "id": "VqJZOuZ55iX0",
        "outputId": "0bc2e9e5-0c32-4f2e-ed89-11808ae911b1"
      },
      "execution_count": 2,
      "outputs": [
        {
          "output_type": "stream",
          "name": "stdout",
          "text": [
            "Cloning into 'UAV_Tracking_Explainable'...\n",
            "remote: Enumerating objects: 29405, done.\u001b[K\n",
            "remote: Counting objects: 100% (29405/29405), done.\u001b[K\n",
            "remote: Compressing objects: 100% (11121/11121), done.\u001b[K\n",
            "remote: Total 29405 (delta 18282), reused 29402 (delta 18282), pack-reused 0 (from 0)\u001b[K\n",
            "Receiving objects: 100% (29405/29405), 38.20 MiB | 23.78 MiB/s, done.\n",
            "Resolving deltas: 100% (18282/18282), done.\n",
            "Updating files: 100% (79219/79219), done.\n"
          ]
        }
      ]
    },
    {
      "cell_type": "code",
      "source": [
        "import os\n",
        "import cv2\n",
        "import apriltag\n",
        "import numpy as np\n",
        "import pandas as pd"
      ],
      "metadata": {
        "id": "BglbzNwA6gIm"
      },
      "execution_count": 3,
      "outputs": []
    },
    {
      "cell_type": "code",
      "source": [
        "\n",
        "def calculate_area(corners):\n",
        "    return 0.5 * abs(\n",
        "        corners[0][0]*corners[1][1] + corners[1][0]*corners[2][1] +\n",
        "        corners[2][0]*corners[3][1] + corners[3][0]*corners[0][1] -\n",
        "        corners[1][0]*corners[0][1] - corners[2][0]*corners[1][1] -\n",
        "        corners[3][0]*corners[2][1] - corners[0][0]*corners[3][1]\n",
        "    )\n",
        "\n",
        "def calculate_angle(corners):\n",
        "    # Tag x-axis: from corner 0 to corner 1\n",
        "    dx = corners[1][0] - corners[0][0]\n",
        "    dy = corners[1][1] - corners[0][1]\n",
        "    angle_rad = np.arctan2(dy, dx)\n",
        "    angle_deg = np.degrees(angle_rad)\n",
        "    # Relative to 180 degrees\n",
        "    return (angle_deg - 180) % 360\n",
        "\n",
        "def process_directory(image_dir, output_csv):\n",
        "    detector = apriltag.Detector(apriltag.DetectorOptions(families='tag36h11'))\n",
        "    data = []\n",
        "\n",
        "    files_length = len(os.listdir(image_dir))\n",
        "    for i in range(files_length - 2):\n",
        "        path = f\"{image_dir}/Image{i+1}.png\"\n",
        "        # print(path)\n",
        "        gray = cv2.imread(path, cv2.IMREAD_GRAYSCALE)\n",
        "        # print(gray.shape)\n",
        "\n",
        "        results = detector.detect(gray)\n",
        "        for result in results:\n",
        "            corners = result.corners\n",
        "            area = calculate_area(corners)\n",
        "            angle = calculate_angle(corners)\n",
        "            row = {\n",
        "                'Image': {i+1},\n",
        "                'corner_0_x': corners[0][0], 'corner_0_y': corners[0][1],\n",
        "                'corner_1_x': corners[1][0], 'corner_1_y': corners[1][1],\n",
        "                'corner_2_x': corners[2][0], 'corner_2_y': corners[2][1],\n",
        "                'corner_3_x': corners[3][0], 'corner_3_y': corners[3][1],\n",
        "                'area': area,\n",
        "                'angle_from_180': angle\n",
        "            }\n",
        "            data.append(row)\n",
        "\n",
        "    df = pd.DataFrame(data)\n",
        "\n",
        "    df.to_csv(output_csv, index=False)\n",
        "    return df"
      ],
      "metadata": {
        "id": "C356XrbA8F5x"
      },
      "execution_count": 6,
      "outputs": []
    },
    {
      "cell_type": "code",
      "source": [
        "path = \"UAV_Tracking_Explainable/dataset\"\n",
        "for i in range(len(os.listdir(path))):\n",
        "    print(\"Processing directory: \", i + 1)\n",
        "    dir_path = os.path.join(path, str(i + 1))\n",
        "    df = process_directory(dir_path, f\"{dir_path}/output.csv\")"
      ],
      "metadata": {
        "colab": {
          "base_uri": "https://localhost:8080/"
        },
        "id": "8JUfS1UF8JiW",
        "outputId": "3c2c5793-75b4-44b8-ab42-10384b98c00e"
      },
      "execution_count": 8,
      "outputs": [
        {
          "output_type": "stream",
          "name": "stdout",
          "text": [
            "Processing directory:  1\n",
            "Processing directory:  2\n",
            "Processing directory:  3\n",
            "Processing directory:  4\n",
            "Processing directory:  5\n",
            "Processing directory:  6\n",
            "Processing directory:  7\n",
            "Processing directory:  8\n",
            "Processing directory:  9\n",
            "Processing directory:  10\n",
            "Processing directory:  11\n",
            "Processing directory:  12\n",
            "Processing directory:  13\n",
            "Processing directory:  14\n",
            "Processing directory:  15\n",
            "Processing directory:  16\n",
            "Processing directory:  17\n",
            "Processing directory:  18\n",
            "Processing directory:  19\n",
            "Processing directory:  20\n",
            "Processing directory:  21\n",
            "Processing directory:  22\n",
            "Processing directory:  23\n",
            "Processing directory:  24\n",
            "Processing directory:  25\n",
            "Processing directory:  26\n",
            "Processing directory:  27\n",
            "Processing directory:  28\n",
            "Processing directory:  29\n",
            "Processing directory:  30\n",
            "Processing directory:  31\n",
            "Processing directory:  32\n",
            "Processing directory:  33\n",
            "Processing directory:  34\n",
            "Processing directory:  35\n",
            "Processing directory:  36\n",
            "Processing directory:  37\n",
            "Processing directory:  38\n",
            "Processing directory:  39\n",
            "Processing directory:  40\n",
            "Processing directory:  41\n",
            "Processing directory:  42\n",
            "Processing directory:  43\n",
            "Processing directory:  44\n",
            "Processing directory:  45\n",
            "Processing directory:  46\n",
            "Processing directory:  47\n",
            "Processing directory:  48\n",
            "Processing directory:  49\n",
            "Processing directory:  50\n",
            "Processing directory:  51\n",
            "Processing directory:  52\n",
            "Processing directory:  53\n",
            "Processing directory:  54\n",
            "Processing directory:  55\n",
            "Processing directory:  56\n",
            "Processing directory:  57\n",
            "Processing directory:  58\n",
            "Processing directory:  59\n",
            "Processing directory:  60\n",
            "Processing directory:  61\n",
            "Processing directory:  62\n",
            "Processing directory:  63\n",
            "Processing directory:  64\n",
            "Processing directory:  65\n",
            "Processing directory:  66\n",
            "Processing directory:  67\n",
            "Processing directory:  68\n",
            "Processing directory:  69\n",
            "Processing directory:  70\n",
            "Processing directory:  71\n",
            "Processing directory:  72\n",
            "Processing directory:  73\n",
            "Processing directory:  74\n",
            "Processing directory:  75\n",
            "Processing directory:  76\n",
            "Processing directory:  77\n",
            "Processing directory:  78\n",
            "Processing directory:  79\n",
            "Processing directory:  80\n",
            "Processing directory:  81\n",
            "Processing directory:  82\n",
            "Processing directory:  83\n",
            "Processing directory:  84\n",
            "Processing directory:  85\n",
            "Processing directory:  86\n",
            "Processing directory:  87\n",
            "Processing directory:  88\n",
            "Processing directory:  89\n",
            "Processing directory:  90\n",
            "Processing directory:  91\n",
            "Processing directory:  92\n",
            "Processing directory:  93\n",
            "Processing directory:  94\n",
            "Processing directory:  95\n",
            "Processing directory:  96\n",
            "Processing directory:  97\n",
            "Processing directory:  98\n",
            "Processing directory:  99\n",
            "Processing directory:  100\n",
            "Processing directory:  101\n",
            "Processing directory:  102\n",
            "Processing directory:  103\n",
            "Processing directory:  104\n",
            "Processing directory:  105\n",
            "Processing directory:  106\n",
            "Processing directory:  107\n",
            "Processing directory:  108\n",
            "Processing directory:  109\n",
            "Processing directory:  110\n",
            "Processing directory:  111\n",
            "Processing directory:  112\n",
            "Processing directory:  113\n",
            "Processing directory:  114\n",
            "Processing directory:  115\n",
            "Processing directory:  116\n",
            "Processing directory:  117\n",
            "Processing directory:  118\n",
            "Processing directory:  119\n",
            "Processing directory:  120\n",
            "Processing directory:  121\n",
            "Processing directory:  122\n",
            "Processing directory:  123\n",
            "Processing directory:  124\n",
            "Processing directory:  125\n",
            "Processing directory:  126\n",
            "Processing directory:  127\n",
            "Processing directory:  128\n",
            "Processing directory:  129\n",
            "Processing directory:  130\n",
            "Processing directory:  131\n",
            "Processing directory:  132\n",
            "Processing directory:  133\n",
            "Processing directory:  134\n",
            "Processing directory:  135\n",
            "Processing directory:  136\n",
            "Processing directory:  137\n",
            "Processing directory:  138\n",
            "Processing directory:  139\n",
            "Processing directory:  140\n",
            "Processing directory:  141\n",
            "Processing directory:  142\n",
            "Processing directory:  143\n",
            "Processing directory:  144\n",
            "Processing directory:  145\n",
            "Processing directory:  146\n",
            "Processing directory:  147\n",
            "Processing directory:  148\n",
            "Processing directory:  149\n",
            "Processing directory:  150\n",
            "Processing directory:  151\n",
            "Processing directory:  152\n",
            "Processing directory:  153\n",
            "Processing directory:  154\n",
            "Processing directory:  155\n",
            "Processing directory:  156\n",
            "Processing directory:  157\n",
            "Processing directory:  158\n",
            "Processing directory:  159\n",
            "Processing directory:  160\n"
          ]
        }
      ]
    },
    {
      "cell_type": "code",
      "source": [
        "!git config --global user.email \"akanksha21008@iiitd.ac.in\"\n",
        "!git config --global user.name \"AkankshaSingal8\""
      ],
      "metadata": {
        "id": "EcxMGD8ZuUr-"
      },
      "execution_count": 15,
      "outputs": []
    },
    {
      "cell_type": "code",
      "source": [
        "!cd UAV_Tracking_Explainable/; git add .; git commit -m \"added feature extraction from images\"; git push"
      ],
      "metadata": {
        "id": "T2MbuGx5uGSZ"
      },
      "execution_count": null,
      "outputs": []
    },
    {
      "cell_type": "code",
      "source": [
        "!zip -r UAV_Tracking_Explainable.zip UAV_Tracking_Explainable"
      ],
      "metadata": {
        "id": "w3Zq60T-rWWc"
      },
      "execution_count": null,
      "outputs": []
    }
  ]
}