{
 "cells": [
  {
   "cell_type": "code",
   "execution_count": null,
   "metadata": {},
   "outputs": [],
   "source": [
    "!pip install dowhy\n",
    "!pip install pydot graphviz\n",
    "!pip install causal-learn"
   ]
  },
  {
   "cell_type": "code",
   "execution_count": null,
   "metadata": {},
   "outputs": [],
   "source": [
    "import pandas as pd\n",
    "import numpy as np\n",
    "from causallearn.search.ConstraintBased.PC import pc\n",
    "from causallearn.utils.cit import fisherz\n",
    "import matplotlib.pyplot as plt\n",
    "import networkx as nx"
   ]
  },
  {
   "cell_type": "code",
   "execution_count": null,
   "metadata": {},
   "outputs": [],
   "source": [
    "# ---- Step 1: Load CSVs ----\n",
    "latent_df = pd.read_csv(\"latent_space_output.csv\")   # shape (N, d)\n",
    "output_df = pd.read_csv(\"prediction_output.csv\")   # shape (N, o)\n",
    "\n",
    "# Optional: Rename columns\n",
    "latent_df.columns = [f\"z{i}\" for i in range(latent_df.shape[1])]\n",
    "# output_df.columns = [f\"y{i}\" for i in range(output_df.shape[1])]\n",
    "\n",
    "# ---- Step 2: Concatenate ----\n",
    "full_df = pd.concat([latent_df, output_df], axis=1)\n",
    "\n",
    "# ---- Step 3: Run PC Algorithm ----\n",
    "data = full_df.to_numpy()\n",
    "cg = pc(data, independence_test_method=fisherz, alpha=0.05)\n",
    "\n",
    "# ---- Step 4: Print Discovered Causal Edges ----\n",
    "var_names = full_df.columns.tolist()\n",
    "print(\"Causal Edges:\")\n",
    "# for edge in cg.G.get_graph_edges():\n",
    "#     i = int(edge.node1.get_name()[1:])  # \"X5\" → 5\n",
    "#     j = int(edge.node2.get_name()[1:])\n",
    "#     ep1, ep2 = edge.endpoint1, edge.endpoint2\n",
    "\n",
    "#     arrow1 = '→' if ep1 == 1 else '←' if ep1 == 2 else '-'\n",
    "#     arrow2 = '→' if ep2 == 1 else '←' if ep2 == 2 else '-'\n",
    "#     direction = f\"{arrow1}{arrow2}\"\n",
    "\n",
    "#     print(f\"{var_names[i]} {direction} {var_names[j]}\")\n",
    "for edge in cg.G.get_graph_edges():\n",
    "    print(edge)"
   ]
  }
 ],
 "metadata": {
  "language_info": {
   "name": "python"
  }
 },
 "nbformat": 4,
 "nbformat_minor": 2
}
